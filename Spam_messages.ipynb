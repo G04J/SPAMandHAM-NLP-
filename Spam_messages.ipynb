{
 "cells": [
  {
   "cell_type": "markdown",
   "id": "52fa0508-2f5d-44ce-9930-ddbc404a4d04",
   "metadata": {},
   "source": [
    "# Importing Libraries"
   ]
  },
  {
   "cell_type": "code",
   "execution_count": 9,
   "id": "9c958395-6b5a-486e-97ec-15c008dfda9b",
   "metadata": {},
   "outputs": [],
   "source": [
    "import pandas as pd\n",
    "import matplotlib.pyplot as plt\n",
    "import seaborn as sns\n",
    "import warnings"
   ]
  },
  {
   "cell_type": "code",
   "execution_count": 4,
   "id": "bc421e86-6568-495b-95df-b159a1bc4aa3",
   "metadata": {},
   "outputs": [],
   "source": [
    "warnings.filterwarnings(action='ignore')"
   ]
  },
  {
   "cell_type": "markdown",
   "id": "edf8e60f-3414-437b-8c77-828449fb1f20",
   "metadata": {},
   "source": [
    "# Reading Dataset"
   ]
  },
  {
   "cell_type": "code",
   "execution_count": 6,
   "id": "6ca0d3b5-6b28-4aa7-bece-7cbec7b28f7d",
   "metadata": {},
   "outputs": [],
   "source": [
    "df = pd.read_csv('Spam.csv',encoding='ISO-8859-1')"
   ]
  },
  {
   "cell_type": "markdown",
   "id": "fe1b6f18-b40c-48c5-9469-1912fb677448",
   "metadata": {},
   "source": [
    "# EDA (Exploratory Data Analysis)"
   ]
  },
  {
   "cell_type": "code",
   "execution_count": 10,
   "id": "6e87fece-11a3-4cc7-af01-cc1954daea0a",
   "metadata": {},
   "outputs": [
    {
     "data": {
      "text/plain": [
       "Index(['v1', 'v2', 'Unnamed: 2', 'Unnamed: 3', 'Unnamed: 4'], dtype='object')"
      ]
     },
     "execution_count": 10,
     "metadata": {},
     "output_type": "execute_result"
    }
   ],
   "source": [
    "df.columns"
   ]
  },
  {
   "cell_type": "code",
   "execution_count": 16,
   "id": "4ca5002d-0f43-4041-b5e1-ba23dc5ea126",
   "metadata": {},
   "outputs": [
    {
     "data": {
      "text/plain": [
       "(5572, 5)"
      ]
     },
     "execution_count": 16,
     "metadata": {},
     "output_type": "execute_result"
    }
   ],
   "source": [
    "df.shape"
   ]
  },
  {
   "cell_type": "code",
   "execution_count": 17,
   "id": "0b9bcab6-f337-4c01-8722-6152dbef4a6c",
   "metadata": {},
   "outputs": [
    {
     "data": {
      "text/html": [
       "<div>\n",
       "<style scoped>\n",
       "    .dataframe tbody tr th:only-of-type {\n",
       "        vertical-align: middle;\n",
       "    }\n",
       "\n",
       "    .dataframe tbody tr th {\n",
       "        vertical-align: top;\n",
       "    }\n",
       "\n",
       "    .dataframe thead th {\n",
       "        text-align: right;\n",
       "    }\n",
       "</style>\n",
       "<table border=\"1\" class=\"dataframe\">\n",
       "  <thead>\n",
       "    <tr style=\"text-align: right;\">\n",
       "      <th></th>\n",
       "      <th>v1</th>\n",
       "      <th>v2</th>\n",
       "      <th>Unnamed: 2</th>\n",
       "      <th>Unnamed: 3</th>\n",
       "      <th>Unnamed: 4</th>\n",
       "    </tr>\n",
       "  </thead>\n",
       "  <tbody>\n",
       "    <tr>\n",
       "      <th>0</th>\n",
       "      <td>ham</td>\n",
       "      <td>Go until jurong point, crazy.. Available only ...</td>\n",
       "      <td>NaN</td>\n",
       "      <td>NaN</td>\n",
       "      <td>NaN</td>\n",
       "    </tr>\n",
       "    <tr>\n",
       "      <th>1</th>\n",
       "      <td>ham</td>\n",
       "      <td>Ok lar... Joking wif u oni...</td>\n",
       "      <td>NaN</td>\n",
       "      <td>NaN</td>\n",
       "      <td>NaN</td>\n",
       "    </tr>\n",
       "    <tr>\n",
       "      <th>2</th>\n",
       "      <td>spam</td>\n",
       "      <td>Free entry in 2 a wkly comp to win FA Cup fina...</td>\n",
       "      <td>NaN</td>\n",
       "      <td>NaN</td>\n",
       "      <td>NaN</td>\n",
       "    </tr>\n",
       "    <tr>\n",
       "      <th>3</th>\n",
       "      <td>ham</td>\n",
       "      <td>U dun say so early hor... U c already then say...</td>\n",
       "      <td>NaN</td>\n",
       "      <td>NaN</td>\n",
       "      <td>NaN</td>\n",
       "    </tr>\n",
       "    <tr>\n",
       "      <th>4</th>\n",
       "      <td>ham</td>\n",
       "      <td>Nah I don't think he goes to usf, he lives aro...</td>\n",
       "      <td>NaN</td>\n",
       "      <td>NaN</td>\n",
       "      <td>NaN</td>\n",
       "    </tr>\n",
       "  </tbody>\n",
       "</table>\n",
       "</div>"
      ],
      "text/plain": [
       "     v1                                                 v2 Unnamed: 2  \\\n",
       "0   ham  Go until jurong point, crazy.. Available only ...        NaN   \n",
       "1   ham                      Ok lar... Joking wif u oni...        NaN   \n",
       "2  spam  Free entry in 2 a wkly comp to win FA Cup fina...        NaN   \n",
       "3   ham  U dun say so early hor... U c already then say...        NaN   \n",
       "4   ham  Nah I don't think he goes to usf, he lives aro...        NaN   \n",
       "\n",
       "  Unnamed: 3 Unnamed: 4  \n",
       "0        NaN        NaN  \n",
       "1        NaN        NaN  \n",
       "2        NaN        NaN  \n",
       "3        NaN        NaN  \n",
       "4        NaN        NaN  "
      ]
     },
     "execution_count": 17,
     "metadata": {},
     "output_type": "execute_result"
    }
   ],
   "source": [
    "df.head()"
   ]
  },
  {
   "cell_type": "code",
   "execution_count": 18,
   "id": "76738a90-155d-4f83-aa9c-80103d15ff3d",
   "metadata": {},
   "outputs": [
    {
     "data": {
      "text/html": [
       "<div>\n",
       "<style scoped>\n",
       "    .dataframe tbody tr th:only-of-type {\n",
       "        vertical-align: middle;\n",
       "    }\n",
       "\n",
       "    .dataframe tbody tr th {\n",
       "        vertical-align: top;\n",
       "    }\n",
       "\n",
       "    .dataframe thead th {\n",
       "        text-align: right;\n",
       "    }\n",
       "</style>\n",
       "<table border=\"1\" class=\"dataframe\">\n",
       "  <thead>\n",
       "    <tr style=\"text-align: right;\">\n",
       "      <th></th>\n",
       "      <th>v1</th>\n",
       "      <th>v2</th>\n",
       "      <th>Unnamed: 2</th>\n",
       "      <th>Unnamed: 3</th>\n",
       "      <th>Unnamed: 4</th>\n",
       "    </tr>\n",
       "  </thead>\n",
       "  <tbody>\n",
       "    <tr>\n",
       "      <th>5567</th>\n",
       "      <td>spam</td>\n",
       "      <td>This is the 2nd time we have tried 2 contact u...</td>\n",
       "      <td>NaN</td>\n",
       "      <td>NaN</td>\n",
       "      <td>NaN</td>\n",
       "    </tr>\n",
       "    <tr>\n",
       "      <th>5568</th>\n",
       "      <td>ham</td>\n",
       "      <td>Will Ì_ b going to esplanade fr home?</td>\n",
       "      <td>NaN</td>\n",
       "      <td>NaN</td>\n",
       "      <td>NaN</td>\n",
       "    </tr>\n",
       "    <tr>\n",
       "      <th>5569</th>\n",
       "      <td>ham</td>\n",
       "      <td>Pity, * was in mood for that. So...any other s...</td>\n",
       "      <td>NaN</td>\n",
       "      <td>NaN</td>\n",
       "      <td>NaN</td>\n",
       "    </tr>\n",
       "    <tr>\n",
       "      <th>5570</th>\n",
       "      <td>ham</td>\n",
       "      <td>The guy did some bitching but I acted like i'd...</td>\n",
       "      <td>NaN</td>\n",
       "      <td>NaN</td>\n",
       "      <td>NaN</td>\n",
       "    </tr>\n",
       "    <tr>\n",
       "      <th>5571</th>\n",
       "      <td>ham</td>\n",
       "      <td>Rofl. Its true to its name</td>\n",
       "      <td>NaN</td>\n",
       "      <td>NaN</td>\n",
       "      <td>NaN</td>\n",
       "    </tr>\n",
       "  </tbody>\n",
       "</table>\n",
       "</div>"
      ],
      "text/plain": [
       "        v1                                                 v2 Unnamed: 2  \\\n",
       "5567  spam  This is the 2nd time we have tried 2 contact u...        NaN   \n",
       "5568   ham              Will Ì_ b going to esplanade fr home?        NaN   \n",
       "5569   ham  Pity, * was in mood for that. So...any other s...        NaN   \n",
       "5570   ham  The guy did some bitching but I acted like i'd...        NaN   \n",
       "5571   ham                         Rofl. Its true to its name        NaN   \n",
       "\n",
       "     Unnamed: 3 Unnamed: 4  \n",
       "5567        NaN        NaN  \n",
       "5568        NaN        NaN  \n",
       "5569        NaN        NaN  \n",
       "5570        NaN        NaN  \n",
       "5571        NaN        NaN  "
      ]
     },
     "execution_count": 18,
     "metadata": {},
     "output_type": "execute_result"
    }
   ],
   "source": [
    "df.tail()"
   ]
  },
  {
   "cell_type": "code",
   "execution_count": 19,
   "id": "be014539-d24d-42c6-9d8c-26a87b3c0b0e",
   "metadata": {},
   "outputs": [
    {
     "name": "stdout",
     "output_type": "stream",
     "text": [
      "<class 'pandas.core.frame.DataFrame'>\n",
      "RangeIndex: 5572 entries, 0 to 5571\n",
      "Data columns (total 5 columns):\n",
      " #   Column      Non-Null Count  Dtype \n",
      "---  ------      --------------  ----- \n",
      " 0   v1          5572 non-null   object\n",
      " 1   v2          5572 non-null   object\n",
      " 2   Unnamed: 2  50 non-null     object\n",
      " 3   Unnamed: 3  12 non-null     object\n",
      " 4   Unnamed: 4  6 non-null      object\n",
      "dtypes: object(5)\n",
      "memory usage: 217.8+ KB\n"
     ]
    }
   ],
   "source": [
    "df.info()"
   ]
  },
  {
   "cell_type": "code",
   "execution_count": 20,
   "id": "b0c25fdd-c386-4114-9acb-b2e8202935ef",
   "metadata": {},
   "outputs": [
    {
     "data": {
      "text/html": [
       "<div>\n",
       "<style scoped>\n",
       "    .dataframe tbody tr th:only-of-type {\n",
       "        vertical-align: middle;\n",
       "    }\n",
       "\n",
       "    .dataframe tbody tr th {\n",
       "        vertical-align: top;\n",
       "    }\n",
       "\n",
       "    .dataframe thead th {\n",
       "        text-align: right;\n",
       "    }\n",
       "</style>\n",
       "<table border=\"1\" class=\"dataframe\">\n",
       "  <thead>\n",
       "    <tr style=\"text-align: right;\">\n",
       "      <th></th>\n",
       "      <th>v1</th>\n",
       "      <th>v2</th>\n",
       "      <th>Unnamed: 2</th>\n",
       "      <th>Unnamed: 3</th>\n",
       "      <th>Unnamed: 4</th>\n",
       "    </tr>\n",
       "  </thead>\n",
       "  <tbody>\n",
       "    <tr>\n",
       "      <th>count</th>\n",
       "      <td>5572</td>\n",
       "      <td>5572</td>\n",
       "      <td>50</td>\n",
       "      <td>12</td>\n",
       "      <td>6</td>\n",
       "    </tr>\n",
       "    <tr>\n",
       "      <th>unique</th>\n",
       "      <td>2</td>\n",
       "      <td>5169</td>\n",
       "      <td>43</td>\n",
       "      <td>10</td>\n",
       "      <td>5</td>\n",
       "    </tr>\n",
       "    <tr>\n",
       "      <th>top</th>\n",
       "      <td>ham</td>\n",
       "      <td>Sorry, I'll call later</td>\n",
       "      <td>bt not his girlfrnd... G o o d n i g h t . . .@\"</td>\n",
       "      <td>MK17 92H. 450Ppw 16\"</td>\n",
       "      <td>GNT:-)\"</td>\n",
       "    </tr>\n",
       "    <tr>\n",
       "      <th>freq</th>\n",
       "      <td>4825</td>\n",
       "      <td>30</td>\n",
       "      <td>3</td>\n",
       "      <td>2</td>\n",
       "      <td>2</td>\n",
       "    </tr>\n",
       "  </tbody>\n",
       "</table>\n",
       "</div>"
      ],
      "text/plain": [
       "          v1                      v2  \\\n",
       "count   5572                    5572   \n",
       "unique     2                    5169   \n",
       "top      ham  Sorry, I'll call later   \n",
       "freq    4825                      30   \n",
       "\n",
       "                                               Unnamed: 2  \\\n",
       "count                                                  50   \n",
       "unique                                                 43   \n",
       "top      bt not his girlfrnd... G o o d n i g h t . . .@\"   \n",
       "freq                                                    3   \n",
       "\n",
       "                   Unnamed: 3 Unnamed: 4  \n",
       "count                      12          6  \n",
       "unique                     10          5  \n",
       "top      MK17 92H. 450Ppw 16\"    GNT:-)\"  \n",
       "freq                        2          2  "
      ]
     },
     "execution_count": 20,
     "metadata": {},
     "output_type": "execute_result"
    }
   ],
   "source": [
    "df.describe()"
   ]
  },
  {
   "cell_type": "code",
   "execution_count": 11,
   "id": "aad856e5-ea0b-480a-ac68-5fc4dced7325",
   "metadata": {},
   "outputs": [
    {
     "data": {
      "text/plain": [
       "v1             0.000000\n",
       "v2             0.000000\n",
       "Unnamed: 2    99.102656\n",
       "Unnamed: 3    99.784637\n",
       "Unnamed: 4    99.892319\n",
       "dtype: float64"
      ]
     },
     "execution_count": 11,
     "metadata": {},
     "output_type": "execute_result"
    }
   ],
   "source": [
    "df.isnull().sum()/len(df)*100"
   ]
  },
  {
   "cell_type": "code",
   "execution_count": 14,
   "id": "f43653db-429c-4acd-97b1-41341b83d033",
   "metadata": {},
   "outputs": [
    {
     "data": {
      "text/plain": [
       "ham     86.593683\n",
       "spam    13.406317\n",
       "Name: v1, dtype: float64"
      ]
     },
     "execution_count": 14,
     "metadata": {},
     "output_type": "execute_result"
    }
   ],
   "source": [
    "df['v1'].value_counts(normalize=True)*100"
   ]
  },
  {
   "cell_type": "code",
   "execution_count": 15,
   "id": "59d79852-14ff-4ee4-8912-5091902759ec",
   "metadata": {},
   "outputs": [
    {
     "data": {
      "text/plain": [
       "<AxesSubplot:xlabel='v1', ylabel='count'>"
      ]
     },
     "execution_count": 15,
     "metadata": {},
     "output_type": "execute_result"
    },
    {
     "data": {
      "image/png": "[encoded data removed]",
      "text/plain": [
       "<Figure size 432x288 with 1 Axes>"
      ]
     },
     "metadata": {
      "needs_background": "light"
     },
     "output_type": "display_data"
    }
   ],
   "source": [
    "sns.countplot(df['v1'])"
   ]
  },
  {
   "cell_type": "code",
   "execution_count": 21,
   "id": "6b4f4b64-b1ff-423e-a551-fe70b9851995",
   "metadata": {},
   "outputs": [],
   "source": [
    "# Dropping unnecessary columns"
   ]
  },
  {
   "cell_type": "code",
   "execution_count": 27,
   "id": "2407d9a5-326d-4c85-a18e-916d716c4978",
   "metadata": {},
   "outputs": [],
   "source": [
    "df.drop(['Unnamed: 2','Unnamed: 3','Unnamed: 4'], axis = 1,inplace=True)"
   ]
  },
  {
   "cell_type": "code",
   "execution_count": 28,
   "id": "c2db6019-b783-4782-8f81-c7fd5322000a",
   "metadata": {},
   "outputs": [
    {
     "data": {
      "text/html": [
       "<div>\n",
       "<style scoped>\n",
       "    .dataframe tbody tr th:only-of-type {\n",
       "        vertical-align: middle;\n",
       "    }\n",
       "\n",
       "    .dataframe tbody tr th {\n",
       "        vertical-align: top;\n",
       "    }\n",
       "\n",
       "    .dataframe thead th {\n",
       "        text-align: right;\n",
       "    }\n",
       "</style>\n",
       "<table border=\"1\" class=\"dataframe\">\n",
       "  <thead>\n",
       "    <tr style=\"text-align: right;\">\n",
       "      <th></th>\n",
       "      <th>v1</th>\n",
       "      <th>v2</th>\n",
       "    </tr>\n",
       "  </thead>\n",
       "  <tbody>\n",
       "    <tr>\n",
       "      <th>0</th>\n",
       "      <td>ham</td>\n",
       "      <td>Go until jurong point, crazy.. Available only ...</td>\n",
       "    </tr>\n",
       "    <tr>\n",
       "      <th>1</th>\n",
       "      <td>ham</td>\n",
       "      <td>Ok lar... Joking wif u oni...</td>\n",
       "    </tr>\n",
       "    <tr>\n",
       "      <th>2</th>\n",
       "      <td>spam</td>\n",
       "      <td>Free entry in 2 a wkly comp to win FA Cup fina...</td>\n",
       "    </tr>\n",
       "    <tr>\n",
       "      <th>3</th>\n",
       "      <td>ham</td>\n",
       "      <td>U dun say so early hor... U c already then say...</td>\n",
       "    </tr>\n",
       "    <tr>\n",
       "      <th>4</th>\n",
       "      <td>ham</td>\n",
       "      <td>Nah I don't think he goes to usf, he lives aro...</td>\n",
       "    </tr>\n",
       "    <tr>\n",
       "      <th>...</th>\n",
       "      <td>...</td>\n",
       "      <td>...</td>\n",
       "    </tr>\n",
       "    <tr>\n",
       "      <th>5567</th>\n",
       "      <td>spam</td>\n",
       "      <td>This is the 2nd time we have tried 2 contact u...</td>\n",
       "    </tr>\n",
       "    <tr>\n",
       "      <th>5568</th>\n",
       "      <td>ham</td>\n",
       "      <td>Will Ì_ b going to esplanade fr home?</td>\n",
       "    </tr>\n",
       "    <tr>\n",
       "      <th>5569</th>\n",
       "      <td>ham</td>\n",
       "      <td>Pity, * was in mood for that. So...any other s...</td>\n",
       "    </tr>\n",
       "    <tr>\n",
       "      <th>5570</th>\n",
       "      <td>ham</td>\n",
       "      <td>The guy did some bitching but I acted like i'd...</td>\n",
       "    </tr>\n",
       "    <tr>\n",
       "      <th>5571</th>\n",
       "      <td>ham</td>\n",
       "      <td>Rofl. Its true to its name</td>\n",
       "    </tr>\n",
       "  </tbody>\n",
       "</table>\n",
       "<p>5572 rows × 2 columns</p>\n",
       "</div>"
      ],
      "text/plain": [
       "        v1                                                 v2\n",
       "0      ham  Go until jurong point, crazy.. Available only ...\n",
       "1      ham                      Ok lar... Joking wif u oni...\n",
       "2     spam  Free entry in 2 a wkly comp to win FA Cup fina...\n",
       "3      ham  U dun say so early hor... U c already then say...\n",
       "4      ham  Nah I don't think he goes to usf, he lives aro...\n",
       "...    ...                                                ...\n",
       "5567  spam  This is the 2nd time we have tried 2 contact u...\n",
       "5568   ham              Will Ì_ b going to esplanade fr home?\n",
       "5569   ham  Pity, * was in mood for that. So...any other s...\n",
       "5570   ham  The guy did some bitching but I acted like i'd...\n",
       "5571   ham                         Rofl. Its true to its name\n",
       "\n",
       "[5572 rows x 2 columns]"
      ]
     },
     "execution_count": 28,
     "metadata": {},
     "output_type": "execute_result"
    }
   ],
   "source": [
    "df"
   ]
  },
  {
   "cell_type": "code",
   "execution_count": 39,
   "id": "1c49b06d-5413-40c8-8c3f-6f73a1b5e8c9",
   "metadata": {},
   "outputs": [
    {
     "data": {
      "text/plain": [
       "'You are a winner U have been specially selected 2 receive å£1000 cash or a 4* holiday (flights inc) speak to a live operator 2 claim 0871277810810'"
      ]
     },
     "execution_count": 39,
     "metadata": {},
     "output_type": "execute_result"
    }
   ],
   "source": [
    "df['v2'][159]"
   ]
  },
  {
   "cell_type": "markdown",
   "id": "dfe5ec9f-5e21-46e4-ba56-3f46642e149e",
   "metadata": {},
   "source": [
    "# NLP"
   ]
  },
  {
   "cell_type": "markdown",
   "id": "7ac3463f-5029-403c-ad9e-d94735d96a51",
   "metadata": {},
   "source": [
    "* Steps in NLP:\n",
    "    1. Remove puntuation\n",
    "    2. Remove unwanted text.\n",
    "    3. Remove stopwords\n",
    "    4. Convert all text to lowercase\n",
    "    5. tokenization\n",
    "    6. Stemming/Lemminization\n",
    "    7. word embedding (text -> number) (using countvectorizer/bow/tfidf/glove)"
   ]
  },
  {
   "cell_type": "markdown",
   "id": "14a89f21-ec86-406f-85bf-7124d234b4a4",
   "metadata": {},
   "source": [
    "# Importing Libraries"
   ]
  },
  {
   "cell_type": "code",
   "execution_count": 44,
   "id": "eb34531a-c9dc-4754-88d0-4766b70f8b31",
   "metadata": {},
   "outputs": [],
   "source": [
    "import nltk\n",
    "import re"
   ]
  },
  {
   "cell_type": "code",
   "execution_count": 48,
   "id": "bca6668d-0737-4df7-adbd-4997760d4742",
   "metadata": {},
   "outputs": [
    {
     "name": "stderr",
     "output_type": "stream",
     "text": [
      "[nltk_data] Downloading package stopwords to\n",
      "[nltk_data]     C:\\Users\\gul\\AppData\\Roaming\\nltk_data...\n",
      "[nltk_data]   Package stopwords is already up-to-date!\n",
      "[nltk_data] Downloading package omw-1.4 to\n",
      "[nltk_data]     C:\\Users\\gul\\AppData\\Roaming\\nltk_data...\n",
      "[nltk_data]   Package omw-1.4 is already up-to-date!\n",
      "[nltk_data] Downloading package wordnet to\n",
      "[nltk_data]     C:\\Users\\gul\\AppData\\Roaming\\nltk_data...\n",
      "[nltk_data]   Package wordnet is already up-to-date!\n"
     ]
    },
    {
     "data": {
      "text/plain": [
       "True"
      ]
     },
     "execution_count": 48,
     "metadata": {},
     "output_type": "execute_result"
    }
   ],
   "source": [
    "nltk.download('stopwords')\n",
    "nltk.download('omw-1.4')\n",
    "nltk.download('wordnet')"
   ]
  },
  {
   "cell_type": "code",
   "execution_count": 51,
   "id": "f3edcea8-c524-4564-b6a6-8809c4ca3bf3",
   "metadata": {},
   "outputs": [],
   "source": [
    "from nltk.corpus import stopwords as sw\n",
    "from nltk.stem import WordNetLemmatizer\n",
    "from sklearn.feature_extraction.text import CountVectorizer"
   ]
  },
  {
   "cell_type": "code",
   "execution_count": 52,
   "id": "9984c66a-74cc-4c55-928d-1d8cdb68cceb",
   "metadata": {},
   "outputs": [
    {
     "name": "stdout",
     "output_type": "stream",
     "text": [
      "['i', 'me', 'my', 'myself', 'we', 'our', 'ours', 'ourselves', 'you', \"you're\", \"you've\", \"you'll\", \"you'd\", 'your', 'yours', 'yourself', 'yourselves', 'he', 'him', 'his', 'himself', 'she', \"she's\", 'her', 'hers', 'herself', 'it', \"it's\", 'its', 'itself', 'they', 'them', 'their', 'theirs', 'themselves', 'what', 'which', 'who', 'whom', 'this', 'that', \"that'll\", 'these', 'those', 'am', 'is', 'are', 'was', 'were', 'be', 'been', 'being', 'have', 'has', 'had', 'having', 'do', 'does', 'did', 'doing', 'a', 'an', 'the', 'and', 'but', 'if', 'or', 'because', 'as', 'until', 'while', 'of', 'at', 'by', 'for', 'with', 'about', 'against', 'between', 'into', 'through', 'during', 'before', 'after', 'above', 'below', 'to', 'from', 'up', 'down', 'in', 'out', 'on', 'off', 'over', 'under', 'again', 'further', 'then', 'once', 'here', 'there', 'when', 'where', 'why', 'how', 'all', 'any', 'both', 'each', 'few', 'more', 'most', 'other', 'some', 'such', 'no', 'nor', 'not', 'only', 'own', 'same', 'so', 'than', 'too', 'very', 's', 't', 'can', 'will', 'just', 'don', \"don't\", 'should', \"should've\", 'now', 'd', 'll', 'm', 'o', 're', 've', 'y', 'ain', 'aren', \"aren't\", 'couldn', \"couldn't\", 'didn', \"didn't\", 'doesn', \"doesn't\", 'hadn', \"hadn't\", 'hasn', \"hasn't\", 'haven', \"haven't\", 'isn', \"isn't\", 'ma', 'mightn', \"mightn't\", 'mustn', \"mustn't\", 'needn', \"needn't\", 'shan', \"shan't\", 'shouldn', \"shouldn't\", 'wasn', \"wasn't\", 'weren', \"weren't\", 'won', \"won't\", 'wouldn', \"wouldn't\"]\n"
     ]
    }
   ],
   "source": [
    "print(sw.words('english'))"
   ]
  },
  {
   "cell_type": "code",
   "execution_count": 61,
   "id": "508cd855-2ad6-4519-8c5b-f57b3555f363",
   "metadata": {},
   "outputs": [],
   "source": [
    "wd = WordNetLemmatizer()\n",
    "corpus= []\n",
    "for i in range(0,len(df)):\n",
    "    v2 = re.sub('[^a-zA-Z]',' ',df['v2'][i])\n",
    "    v2 = v2.lower()\n",
    "    v2 = v2.split()\n",
    "    v2 = [wd.lemmatize (word) for word in v2 if not word in sw.words('english')]\n",
    "    v2 = ' '.join(v2)\n",
    "    corpus.append(v2)"
   ]
  },
  {
   "cell_type": "code",
   "execution_count": 62,
   "id": "e591281e-1e50-46e0-a763-2e36f673b518",
   "metadata": {
    "scrolled": true,
    "tags": []
   },
   "outputs": [
    {
     "data": {
      "text/plain": [
       "['go jurong point crazy available bugis n great world la e buffet cine got amore wat',\n",
       " 'ok lar joking wif u oni',\n",
       " 'free entry wkly comp win fa cup final tkts st may text fa receive entry question std txt rate c apply',\n",
       " 'u dun say early hor u c already say',\n",
       " 'nah think go usf life around though',\n",
       " 'freemsg hey darling week word back like fun still tb ok xxx std chgs send rcv',\n",
       " 'even brother like speak treat like aid patent',\n",
       " 'per request melle melle oru minnaminunginte nurungu vettam set callertune caller press copy friend callertune',\n",
       " 'winner valued network customer selected receivea prize reward claim call claim code kl valid hour',\n",
       " 'mobile month u r entitled update latest colour mobile camera free call mobile update co free',\n",
       " 'gonna home soon want talk stuff anymore tonight k cried enough today',\n",
       " 'six chance win cash pound txt csh send cost p day day tsandcs apply reply hl info',\n",
       " 'urgent week free membership prize jackpot txt word claim c www dbuk net lccltd pobox ldnw rw',\n",
       " 'searching right word thank breather promise wont take help granted fulfil promise wonderful blessing time',\n",
       " 'date sunday',\n",
       " 'xxxmobilemovieclub use credit click wap link next txt message click http wap xxxmobilemovieclub com n qjkgighjjgcbl',\n",
       " 'oh k watching',\n",
       " 'eh u remember spell name yes v naughty make v wet',\n",
       " 'fine way u feel way gota b',\n",
       " 'england v macedonia dont miss goal team news txt ur national team eg england try wale scotland txt poboxox w wq',\n",
       " 'seriously spell name',\n",
       " 'going try month ha ha joking',\n",
       " 'pay first lar da stock comin',\n",
       " 'aft finish lunch go str lor ard smth lor u finish ur lunch already',\n",
       " 'ffffffffff alright way meet sooner',\n",
       " 'forced eat slice really hungry tho suck mark getting worried know sick turn pizza lol',\n",
       " 'lol always convincing',\n",
       " 'catch bus frying egg make tea eating mom left dinner feel love',\n",
       " 'back amp packing car let know room',\n",
       " 'ahhh work vaguely remember feel like lol',\n",
       " 'wait still clear sure sarcastic x want live u',\n",
       " 'yeah got v apologetic n fallen actin like spoilt child got caught till go badly cheer',\n",
       " 'k tell anything',\n",
       " 'fear fainting housework quick cuppa',\n",
       " 'thanks subscription ringtone uk mobile charged month please confirm replying yes reply charged',\n",
       " 'yup ok go home look timing msg xuhui going learn nd may lesson',\n",
       " 'oops let know roommate done',\n",
       " 'see letter b car',\n",
       " 'anything lor u decide',\n",
       " 'hello saturday go texting see decided anything tomo trying invite anything',\n",
       " 'pls go ahead watt wanted sure great weekend abiola',\n",
       " 'forget tell want need crave love sweet arabian steed mmmmmm yummy',\n",
       " 'rodger burn msg tried call reply sm free nokia mobile free camcorder please call delivery tomorrow',\n",
       " 'seeing',\n",
       " 'great hope like man well endowed lt gt inch',\n",
       " 'call message missed call',\n",
       " 'get hep b immunisation nigeria',\n",
       " 'fair enough anything going',\n",
       " 'yeah hopefully tyler could maybe ask around bit',\n",
       " 'u know stubborn even want go hospital kept telling mark weak sucker hospital weak sucker',\n",
       " 'thinked first time saw class',\n",
       " 'gram usually run like lt gt half eighth smarter though get almost whole second gram lt gt',\n",
       " 'k fyi x ride early tomorrow morning crashing place tonight',\n",
       " 'wow never realized embarassed accomodations thought liked since best could always seemed happy cave sorry give sorry offered sorry room embarassing',\n",
       " 'sm ac sptv new jersey devil detroit red wing play ice hockey correct incorrect end reply end sptv',\n",
       " 'know mallika sherawat yesterday find lt url gt',\n",
       " 'congrats year special cinema pas call c suprman v matrix starwars etc free bx ip pm dont miss',\n",
       " 'sorry call later meeting',\n",
       " 'tell reached',\n",
       " 'yes gauti sehwag odi series',\n",
       " 'gonna pick burger way home even move pain killing',\n",
       " 'ha ha ha good joke girl situation seeker',\n",
       " 'part checking iq',\n",
       " 'sorry roommate took forever ok come',\n",
       " 'ok lar double check wif da hair dresser already said wun cut v short said cut look nice',\n",
       " 'valued customer pleased advise following recent review mob awarded bonus prize call',\n",
       " 'today song dedicated day song u dedicate send ur valuable frnds first rply',\n",
       " 'urgent ur awarded complimentary trip eurodisinc trav aco entry claim txt dis morefrmmob shracomorsglsuplt l aj',\n",
       " 'hear new divorce barbie come ken stuff',\n",
       " 'plane give month end',\n",
       " 'wah lucky man save money hee',\n",
       " 'finished class',\n",
       " 'hi babe im home wanna something xx',\n",
       " 'k k performed',\n",
       " 'u call',\n",
       " 'waiting machan call free',\n",
       " 'thats cool gentleman treat dignity respect',\n",
       " 'like people much shy pa',\n",
       " 'operate lt gt',\n",
       " 'still looking job much ta earn',\n",
       " 'sorry call later',\n",
       " 'k call ah',\n",
       " 'ok way home hi hi',\n",
       " 'place man',\n",
       " 'yup next stop',\n",
       " 'call later network urgnt sm',\n",
       " 'real u getting yo need ticket one jacket done already used multis',\n",
       " 'yes started send request make pain came back back bed double coin factory gotta cash nitros',\n",
       " 'really still tonight babe',\n",
       " 'ela kano il download come wen ur free',\n",
       " 'yeah stand close tho catch something',\n",
       " 'sorry pain ok meet another night spent late afternoon casualty mean done stuff moro includes time sheet sorry',\n",
       " 'smile pleasure smile pain smile trouble pours like rain smile sum hurt u smile becoz someone still love see u smiling',\n",
       " 'please call customer service representative pm guaranteed cash prize',\n",
       " 'havent planning buy later check already lido got show e afternoon u finish work already',\n",
       " 'free ringtone waiting collected simply text password mix verify get usher britney fml',\n",
       " 'watching telugu movie wat abt u',\n",
       " 'see finish load loan pay',\n",
       " 'hi wk ok hols yes bit run forgot hairdresser appointment four need get home n shower beforehand cause prob u ham',\n",
       " 'please text anymore nothing else say',\n",
       " 'okay name ur price long legal wen pick u ave x am xx',\n",
       " 'still looking car buy gone driving test yet',\n",
       " 'per request melle melle oru minnaminunginte nurungu vettam set callertune caller press copy friend callertune',\n",
       " 'wow right mean guess gave boston men changed search location nyc something changed cuz signin page still say boston',\n",
       " 'umma life vava umma love lot dear',\n",
       " 'thanks lot wish birthday thanks making birthday truly memorable',\n",
       " 'aight hit get cash',\n",
       " 'would ip address test considering computer minecraft server',\n",
       " 'know grumpy old people mom like better lying always one play joke',\n",
       " 'dont worry guess busy',\n",
       " 'plural noun research',\n",
       " 'going dinner msg',\n",
       " 'ok wif co like try new thing scared u dun like mah co u said loud',\n",
       " 'gent trying contact last weekend draw show prize guaranteed call claim code k valid hr ppm',\n",
       " 'wa ur openin sentence formal anyway fine juz tt eatin much n puttin weight haha anythin special happened',\n",
       " 'entered cabin pa said happy b day bos felt special askd lunch lunch invited apartment went',\n",
       " 'winner u specially selected receive holiday flight inc speak live operator claim p min',\n",
       " 'goodo yes must speak friday egg potato ratio tortilla needed',\n",
       " 'hmm uncle informed paying school directly pls buy food',\n",
       " 'private account statement show unredeemed bonus point claim call identifier code expires',\n",
       " 'urgent mobile awarded bonus caller prize final try contact u call landline box wr c ppm',\n",
       " 'new address apple pair malarky',\n",
       " 'today voda number ending selected receive award match please call quoting claim code standard rate app',\n",
       " 'going sao mu today done',\n",
       " 'predict wat time finish buying',\n",
       " 'good stuff',\n",
       " 'know yetunde sent money yet sent text bother sending dont involve anything imposed anything first place apologise',\n",
       " 'room',\n",
       " 'hey girl r u hope u r well del r bak long time c give call sum time lucyxx',\n",
       " 'k k much cost',\n",
       " 'home',\n",
       " 'dear call tmorrow pls accomodate',\n",
       " 'first answer question',\n",
       " 'sunshine quiz wkly q win top sony dvd player u know country algarve txt ansr sp tyrone',\n",
       " 'want get laid tonight want real dogging location sent direct ur mob join uk largest dogging network bt txting gravel nt ec p msg p',\n",
       " 'haf msn yijue hotmail com',\n",
       " 'call meet',\n",
       " 'check room befor activity',\n",
       " 'rcv msg chat svc free hardcore service text go u get nothing u must age verify yr network try',\n",
       " 'got c lazy type forgot lect saw pouch like v nice',\n",
       " 'k text way',\n",
       " 'sir waiting mail',\n",
       " 'swt thought nver get tired little thing lovable person coz somtimes little thing occupy biggest part heart gud ni',\n",
       " 'know pls open back',\n",
       " 'yes see ya dot',\n",
       " 'whats staff name taking class u',\n",
       " 'freemsg replied text randy sexy female live local luv hear u netcollex ltd p per msg reply stop end',\n",
       " 'ummma call check life begin qatar pls pray hard',\n",
       " 'k deleted contact',\n",
       " 'sindu got job birla soft',\n",
       " 'wine flowing nevering',\n",
       " 'yup thk cine better co need go plaza mah',\n",
       " 'ok ur typical reply',\n",
       " 'per request melle melle oru minnaminunginte nurungu vettam set callertune caller press copy friend callertune',\n",
       " 'everywhere dirt floor window even shirt sometimes open mouth come flowing dream world without half chore time joy lot tv show see guess like thing must exist like rain hail mist time done become one',\n",
       " 'aaooooright work',\n",
       " 'leaving house',\n",
       " 'hello love get interview today happy good boy think missing',\n",
       " 'customer service annoncement new year delivery waiting please call arrange delivery',\n",
       " 'winner u specially selected receive cash holiday flight inc speak live operator claim',\n",
       " 'keep safe need miss already envy everyone see real life',\n",
       " 'new car house parent new job hand',\n",
       " 'love excited day spend make happy',\n",
       " 'pls stop bootydelious f inviting friend reply yes see www sm ac u bootydelious stop send stop frnd',\n",
       " 'bangbabes ur order way u receive service msg download ur content u goto wap bangb tv ur mobile internet service menu',\n",
       " 'place ur point e culture module already',\n",
       " 'urgent trying contact last weekend draw show prize guaranteed call claim code valid hr',\n",
       " 'hi frnd best way avoid missunderstding wit beloved one',\n",
       " 'great escape fancy bridge need lager see tomo',\n",
       " 'yes completely form clark also utter waste',\n",
       " 'sir need axis bank account bank address',\n",
       " 'hmmm thk sure got time hop ard ya go free abt muz call u discus liao',\n",
       " 'time coming later',\n",
       " 'bloody hell cant believe forgot surname mr ill give u clue spanish begin',\n",
       " 'well gonna finish bath good fine night',\n",
       " 'let know got money carlos make call',\n",
       " 'u still going mall',\n",
       " 'turn friend staying whole show back til lt gt feel free go ahead smoke lt gt worth',\n",
       " 'text doesnt reply let know log',\n",
       " 'hi spoke maneesha v like know satisfied experience reply toll free yes',\n",
       " 'lifted hope offer money need especially end month approach hurt studying anyways gr weekend',\n",
       " 'lol u trust',\n",
       " 'ok gentleman treat dignity respect',\n",
       " 'guy close',\n",
       " 'going nothing great bye',\n",
       " 'hello handsome finding job lazy working towards getting back net mummy boytoy miss',\n",
       " 'haha awesome minute',\n",
       " 'please call customer service representative freephone pm guaranteed cash prize',\n",
       " 'got xmas radio time get',\n",
       " 'jus reached home go bathe first si using net tell u finish k',\n",
       " 'unique enough find th august www areyouunique co uk',\n",
       " 'sorry joined league people dont keep touch mean great deal friend time even great personal cost great week',\n",
       " 'hi finally completed course',\n",
       " 'stop however suggest stay someone able give or every stool',\n",
       " 'hope settled new school year wishin gr day',\n",
       " 'gud mrng dear hav nice day',\n",
       " 'u got person story',\n",
       " 'hamster dead hey tmr meet pm orchard mrt',\n",
       " 'hi kate evening hope see tomorrow bit bloody babyjontet txt back u xxx',\n",
       " 'found enc lt gt',\n",
       " 'sent lt gt buck',\n",
       " 'hello darlin ive finished college txt u finish u love kate xxx',\n",
       " 'account refilled successfully inr lt decimal gt keralacircle prepaid account balance r lt decimal gt transaction id kr lt gt',\n",
       " 'goodmorning sleeping ga',\n",
       " 'u call alter ok',\n",
       " 'say like dat dun buy ericsson oso cannot oredi lar',\n",
       " 'entered cabin pa said happy b day bos felt special askd lunch lunch invited apartment went',\n",
       " 'aight yo dat straight dogg',\n",
       " 'please give u connection today lt decimal gt refund bill',\n",
       " 'shoot big load get ready',\n",
       " 'bruv hope great break rewarding semester',\n",
       " 'home always chat',\n",
       " 'k k good study well',\n",
       " 'yup noe leh',\n",
       " 'sound great home',\n",
       " 'finally match heading towards draw prediction',\n",
       " 'tired slept well past night',\n",
       " 'easy ah sen got selected mean good',\n",
       " 'take exam march',\n",
       " 'yeah think use gt atm register sure anyway help let know sure ready',\n",
       " 'ok prob take ur time',\n",
       " 'o called ubandu run without installing hard disk use o copy important file system give repair shop',\n",
       " 'sorry call later',\n",
       " 'u say leh course nothing happen lar say v romantic jus bit lor thk e nite scenery nice leh',\n",
       " 'new mobile must go txt nokia collect today www tc biz optout gbp mtmsg',\n",
       " 'would really appreciate call need someone talk',\n",
       " 'u meet ur dream partner soon ur career flyng start find free txt horo followed ur star sign e g horo aries',\n",
       " 'hey company elama po mudyadhu',\n",
       " 'life strict teacher bcoz teacher teach lesson amp conduct exam life first conduct exam amp teach lesson happy morning',\n",
       " 'dear good morning',\n",
       " 'get gandhipuram walk cross cut road right side lt gt street road turn first right',\n",
       " 'dear going rubber place',\n",
       " 'sorry battery died yeah',\n",
       " 'yes tv always available work place',\n",
       " 'text meet someone sexy today u find date even flirt u join p reply name age eg sam msg recd thirtyeight penny',\n",
       " 'printed oh lt gt come upstairs',\n",
       " 'ill little closer like bus stop street',\n",
       " 'wil reach',\n",
       " 'new theory argument win situation loses person dont argue ur friend kick amp say always correct',\n",
       " 'u secret admirer looking make contact u find r reveal think ur special call',\n",
       " 'tomarrow final hearing laptop case cant',\n",
       " 'pleassssssseeeeee tel v avent done sportsx',\n",
       " 'okay shining meant signing sound better',\n",
       " 'although told u dat baig face watch really like e watch u gave co fr u thanx everything dat u done today touched',\n",
       " 'u remember old commercial',\n",
       " 'late said website dont slipper',\n",
       " 'asked call ok',\n",
       " 'kallis wont bat nd inning',\n",
       " 'didnt work oh ok goodnight fix ready time wake dearly missed good night sleep',\n",
       " 'congratulation ur awarded cd voucher gift guaranteed free entry wkly draw txt music tncs www ldew com win ppmx age',\n",
       " 'ranjith cal drpd deeraj deepak min hold',\n",
       " 'wen ur lovable bcums angry wid u dnt take seriously coz angry childish n true way showing deep affection care n luv kettoda manda nice day da',\n",
       " '',\n",
       " 'ups day also shipping company take wks way usps take week get lag may bribe nipost get stuff',\n",
       " 'back lemme know ready',\n",
       " 'necessarily expect done get back though headin',\n",
       " 'mmm yummy babe nice jolt suzy',\n",
       " 'lover need',\n",
       " 'tried contact reply offer video handset anytime network min unlimited text camcorder reply call',\n",
       " 'parked next mini coming today think',\n",
       " 'yup',\n",
       " 'anyway going shopping co si done yet dun disturb u liao',\n",
       " 'luton ring ur around h',\n",
       " 'hey really horny want chat see naked text hot text charged pm unsubscribe text stop',\n",
       " 'dint come u',\n",
       " 'wana plan trip sometme',\n",
       " 'sure yet still trying get hold',\n",
       " 'ur ringtone service changed free credit go club mobile com choose content stop txt club stop p wk club po box mk wt',\n",
       " 'evo download flash jealous',\n",
       " 'ringtone club get uk single chart mobile week choose top quality ringtone message free charge',\n",
       " 'come mu sorting narcotic situation',\n",
       " 'night ended another day morning come special way may smile like sunny ray leaf worry blue blue bay',\n",
       " 'hmv bonus special pound genuine hmv voucher answer easy question play send hmv info www percent real com',\n",
       " 'usf guess might well take car',\n",
       " 'objection bf coming',\n",
       " 'thanx',\n",
       " 'tell rob mack gf theater',\n",
       " 'awesome see bit',\n",
       " 'sent type food like',\n",
       " 'done handed celebration full swing yet',\n",
       " 'got called tool',\n",
       " 'wen u miss someone',\n",
       " 'ok asked money far',\n",
       " 'okie',\n",
       " 'yeah think usual guy still passed last night get ahold anybody let know throw',\n",
       " 'k might come tonight class let early',\n",
       " 'ok',\n",
       " 'hi baby im cruisin girl friend r u give call hour home thats alright fone fone love jenny xxx',\n",
       " 'life mean lot love life love people life world call friend call world ge',\n",
       " 'dear shall mail tonite busy street shall update tonite thing looking ok varunnathu edukkukayee raksha ollu good one real sense',\n",
       " 'hey told name gautham ah',\n",
       " 'haf u found feel stupid da v cam working',\n",
       " 'oops got bit',\n",
       " 'much buzy',\n",
       " 'accidentally deleted message resend please',\n",
       " 'mobile customer may claim free camera phone upgrade pay go sim card loyalty call offer end thfeb c apply',\n",
       " 'unless situation go gurl would appropriate',\n",
       " 'hurt tease make cry end life die plz keep one rose grave say stupid miss u nice day bslvyl',\n",
       " 'cant pick phone right pls send message',\n",
       " 'need coffee run tomo believe time week already',\n",
       " 'awesome remember last time got somebody high first time diesel v',\n",
       " 'shit really shocking scary cant imagine second def night u think somewhere could crash night save taxi',\n",
       " 'oh way food fridge want go meal tonight',\n",
       " 'womdarfull actor',\n",
       " 'sm ac blind date u rodds aberdeen united kingdom check http img sm ac w icmb cktz r blind date send hide',\n",
       " 'yup remb think book',\n",
       " 'jos ask u wana meet',\n",
       " 'lol yes friendship hanging thread cause u buy stuff',\n",
       " 'themob check newest selection content game tone gossip babe sport keep mobile fit funky text wap',\n",
       " 'garage key bookshelf',\n",
       " 'today accept day u accept brother sister lover dear best clos lvblefrnd jstfrnd cutefrnd lifpartnr belovd swtheart bstfrnd rply mean enemy',\n",
       " 'think ur smart win week weekly quiz text play c winnersclub po box uz gbp week',\n",
       " 'say give call friend got money definitely buying end week',\n",
       " 'hi way u day normal way real ur unique hope know u rest mylife hope u find wot lost',\n",
       " 'made day great day',\n",
       " 'k k advance happy pongal',\n",
       " 'hmmm guess go kb n power yoga haha dunno tahan power yoga anot thk got lo oso forgot liao',\n",
       " 'really dude friend afraid',\n",
       " 'december mobile mths entitled update latest colour camera mobile free call mobile update co free',\n",
       " 'coffee cake guess',\n",
       " 'merry christmas babe love ya kiss',\n",
       " 'hey dont go watch x men lunch haha',\n",
       " 'cud u tell ppl im gona b bit l co bus hav gon past co full im still waitin pete x',\n",
       " 'would great guild could meet bristol road somewhere get touch weekend plan take flight good week',\n",
       " 'problem',\n",
       " 'call message missed call',\n",
       " 'hi da today class',\n",
       " 'say good sign well know track record reading woman',\n",
       " 'cool text parked',\n",
       " 'reading text sent meant joke read light',\n",
       " 'k k apo k good movie',\n",
       " 'maybe could get book tomo return immediately something',\n",
       " 'call germany penny per minute call fixed line via access number prepayment direct access',\n",
       " 'chance might evaporated soon violated privacy stealing phone number employer paperwork cool please contact report supervisor',\n",
       " 'valentine day special win quiz take partner trip lifetime send go p msg rcvd custcare',\n",
       " 'ta daaaaa home babe still',\n",
       " 'cool come havent wined dined',\n",
       " 'sleeping surfing',\n",
       " 'sorry call later',\n",
       " 'u calling right call hand phone',\n",
       " 'ok great thanx lot',\n",
       " 'take post come must text happy reading one wiv hello caroline end favourite bless',\n",
       " 'u hiding stranger',\n",
       " 'interested like',\n",
       " 'sister cleared two round birla soft yesterday',\n",
       " 'gudnite tc practice going',\n",
       " 'dis yijue jus saw ur mail case huiming havent sent u num dis num',\n",
       " 'one small prestige problem',\n",
       " 'fancy shag interested sextextuk com txt xxuk suzy txts cost per msg tncs website x',\n",
       " 'checking really miss seeing jeremiah great month',\n",
       " 'nah help never iphone',\n",
       " 'car hour half going apeshit',\n",
       " 'today sorry day ever angry ever misbehaved hurt plz plz slap urself bcoz ur fault basically good',\n",
       " 'yo guy ever figure much need alcohol jay trying figure much safely spend weed',\n",
       " 'lt gt ish minute minute ago wtf',\n",
       " 'thank calling forgot say happy onam sirji fine remembered met insurance person meet qatar insha allah rakhesh ex tata aig joined tissco tayseer',\n",
       " 'congratulation ur awarded cd voucher gift guaranteed free entry wkly draw txt music tncs www ldew com win ppmx age',\n",
       " 'ur cash balance currently pound maximize ur cash send cash p msg cc hg suite land row w j hl',\n",
       " 'actor work work evening sleep late since unemployed moment always sleep late unemployed every day saturday',\n",
       " 'hello got st andrew boy long way cold keep posted',\n",
       " 'ha ha cool cool chikku chikku db',\n",
       " 'oh ok prob',\n",
       " 'check audrey status right',\n",
       " 'busy trying finish new year looking forward finally meeting',\n",
       " 'good afternoon sunshine dawn day refreshed happy alive breathe air smile think love always',\n",
       " 'well know z take care worry',\n",
       " 'update xmas offer latest motorola sonyericsson nokia free bluetooth double min txt orange call mobileupd call optout f q',\n",
       " 'discount code rp stop message reply stop www regalportfolio co uk customer service',\n",
       " 'wat uniform get',\n",
       " 'cool text ready',\n",
       " 'hello boytoy geeee miss already woke wish bed cuddling love',\n",
       " 'spoil bed well',\n",
       " 'going bath msg next lt gt min',\n",
       " 'cant keep talking people sure pay agree price pls tell want really buy much willing pay',\n",
       " 'thanks ringtone order reference charged gbp per week unsubscribe anytime calling customer service',\n",
       " 'say happen',\n",
       " 'could seen recognise face',\n",
       " 'well lot thing happening lindsay new year sigh bar ptbo blue heron something going',\n",
       " 'keep payasam rinu brings',\n",
       " 'taught ranjith sir called sm like becaus he verifying project prabu told today pa dont mistake',\n",
       " 'guess worried must know way body repair quite sure worry take slow first test guide ovulation relax nothing said reason worry keep followin',\n",
       " 'yeah sure give couple minute track wallet',\n",
       " 'hey leave big deal take care',\n",
       " 'hey late ah meet',\n",
       " 'double min txts month free bluetooth orange available sony nokia motorola phone call mobileupd call optout n dx',\n",
       " 'took mr owl lick',\n",
       " 'customer place call',\n",
       " 'mm time dont like fun',\n",
       " 'mths half price orange line rental latest camera phone free phone mths call mobilesdirect free update stoptxt',\n",
       " 'yup lunch buffet u eat already',\n",
       " 'huh late fr dinner',\n",
       " 'hey sat going intro pilate kickboxing',\n",
       " 'morning ok',\n",
       " 'yes think office lap room think thats last day didnt shut',\n",
       " 'pick bout ish time going',\n",
       " 'performance award calculated every two month current one month period',\n",
       " 'actually sleeping still might u call back text gr rock si send u text wen wake',\n",
       " 'always putting business put picture as facebook one open people ever met would think picture room would hurt make feel violated',\n",
       " 'good evening sir al salam wahleykkum sharing happy news grace god got offer tayseer tissco joined hope fine inshah allah meet sometime rakhesh visitor india',\n",
       " 'hmmm k want change field quickly da wanna get system administrator network administrator',\n",
       " 'free ringtone text first poly text get true tone help st free tone x pw e nd txt stop',\n",
       " 'dear chechi talk',\n",
       " 'hair cream shipped',\n",
       " 'none happening til get though',\n",
       " 'yep great loxahatchee xmas tree burning lt gt start hour',\n",
       " 'haha get used driving usf man know lot stoner',\n",
       " 'well slightly disastrous class pm fav darling hope day ok coffee wld good stay late tomorrow time place always',\n",
       " 'hello good week fancy drink something later',\n",
       " 'headin towards busetop',\n",
       " 'message text missing sender name missing number missing sent date missing missing u lot thats everything missing sent via fullonsms com',\n",
       " 'come room point iron plan weekend',\n",
       " 'co want thing',\n",
       " 'okies go yan jiu skip ard oso go cine den go mrt one blah blah blah',\n",
       " 'bring home wendy',\n",
       " 'dating service cal l box sk ch',\n",
       " 'whatsup dont u want sleep',\n",
       " 'alright new goal',\n",
       " 'free entry weekly competition text word win c www txttowin co uk',\n",
       " 'alright head minute text meet',\n",
       " 'send logo ur lover name joined heart txt love name name mobno eg love adam eve yahoo pobox w wq txtno ad p',\n",
       " 'yes last week taking live call',\n",
       " 'someone contacted dating service entered phone fancy find call landline pobox n tf p',\n",
       " 'siva hostel aha',\n",
       " 'urgent mobile number awarded prize guaranteed call land line claim valid hr',\n",
       " 'send ur friend receive something ur voice speaking expression childish naughty sentiment rowdy ful attitude romantic shy attractive funny lt gt irritating lt gt lovable reply',\n",
       " 'ok ok guess',\n",
       " 'aathi dear',\n",
       " 'pain urination thing else',\n",
       " 'esplanade mind giving lift co got car today',\n",
       " 'wnt buy bmw car urgently vry urgent hv shortage lt gt lac source arng dis amt lt gt lac thats prob',\n",
       " 'home watching tv lor',\n",
       " 'usually take fifteen fucking minute respond yes question',\n",
       " 'congrats nokia video camera phone call call cost ppm ave call min vary mobile close post bcm ldn wc n xx',\n",
       " 'booked ticket pongal',\n",
       " 'available like right around hillsborough amp lt gt th',\n",
       " 'message sent askin lt gt dollar shoul pay lt gt lt gt',\n",
       " 'ask g iouri told story like ten time already',\n",
       " 'long applebees fucking take',\n",
       " 'hi hope u get txt journey hasnt gd min late think',\n",
       " 'like love arrange',\n",
       " 'yes really great bhaji told kallis best cricketer sachin world tough get',\n",
       " 'supposed wake gt',\n",
       " 'oic saw tot din c found group liao',\n",
       " 'sorry call later',\n",
       " 'hey hey werethe monkeespeople say monkeyaround howdy gorgeous',\n",
       " 'sorry battery died come getting gram place',\n",
       " 'well done blimey exercise yeah kinda remember wot hmm',\n",
       " 'wont get concentration dear know mind everything',\n",
       " 'lol made plan new year',\n",
       " 'min later k',\n",
       " 'hank lotsly',\n",
       " 'thanks hope good day today',\n",
       " 'k k detail want transfer acc enough',\n",
       " 'ok tell stay yeah tough optimistic thing improve month',\n",
       " 'loan purpose homeowner tenant welcome previously refused still help call free text back help',\n",
       " 'si si think ill go make oreo truffle',\n",
       " 'look amy ure beautiful intelligent woman like u lot know u like like worry',\n",
       " 'hope result consistently intelligent kind start asking practicum link keep ear open best ttyl',\n",
       " 'call cost guess isnt bad miss ya need ya want ya love ya',\n",
       " 'going thru different feeling wavering decision coping individual time heal everything believe',\n",
       " 'u go phone gonna die stay',\n",
       " 'great never better day give even reason thank god',\n",
       " 'upgrdcentre orange customer may claim free camera phone upgrade loyalty call offer end th july c apply opt available',\n",
       " 'sorry call later ok bye',\n",
       " 'ok way railway',\n",
       " 'great princess love giving receiving oral doggy style fave position enjoy making love lt gt time per night',\n",
       " 'put stuff road keep getting slippery',\n",
       " 'going ride bike',\n",
       " 'yup need jus wait e rain stop',\n",
       " 'many company tell language',\n",
       " 'okmail dear dave final notice collect tenerife holiday cash award call landline tc sae box cw wx ppm',\n",
       " 'long since screamed princess',\n",
       " 'nothing meant money enters account bank remove flat rate someone transfered lt gt account lt gt dollar got removed bank differ charge also differ sure trust ja person sending account detail co',\n",
       " 'want get laid tonight want real dogging location sent direct ur mob join uk largest dogging network txting moan nyt ec p msg p',\n",
       " 'nice line said broken heart plz cum time infront wise trust u good',\n",
       " 'ok gonna head usf like fifteen minute',\n",
       " 'love aathi love u lot',\n",
       " 'tension ah machi problem',\n",
       " 'k pick another th done',\n",
       " 'guy getting back g said thinking staying mcr',\n",
       " 'almost see u sec',\n",
       " 'yo carlos friend already asking working weekend',\n",
       " 'watching tv lor',\n",
       " 'thank baby cant wait taste real thing',\n",
       " 'change fb jaykwon thuglyfe falconerf',\n",
       " 'win really side long time',\n",
       " 'free message activate free text message replying message word free term condition visit www com',\n",
       " 'dear reached railway happen',\n",
       " 'depends quality want type sent boye faded glory want ralphs maybe',\n",
       " 'think fixed send test message',\n",
       " 'sorry man account dry would want could trade back half could buy shit credit card',\n",
       " 'congrats year special cinema pas call c suprman v matrix starwars etc free bx ip pm dont miss',\n",
       " 'sorry meeting call later',\n",
       " 'class lt gt reunion',\n",
       " 'free call',\n",
       " 'got meh',\n",
       " 'nope think go monday sorry replied late',\n",
       " 'told accenture confirm true',\n",
       " 'kate jackson rec center ish right',\n",
       " 'dear reache room',\n",
       " 'fighting world easy u either win lose bt fightng close u dificult u lose u lose u win u still lose',\n",
       " 'come',\n",
       " 'check nuerologist',\n",
       " 'lolnice went fish water',\n",
       " 'congratulation week competition draw u prize claim call b c stop sm ppm',\n",
       " 'waiting e car dat bored wat co wait outside got nothing home stuff watch tv wat',\n",
       " 'maybe westshore hyde park village place near house',\n",
       " 'know anthony bringing money school fee pay rent stuff like thats need help friend need',\n",
       " 'significance',\n",
       " 'opinion jada kusruthi lovable silent spl character matured stylish simple pls reply',\n",
       " 'latest g still scrounge ammo want give new ak try',\n",
       " 'prabha soryda realy frm heart sory',\n",
       " 'lol ok forgiven',\n",
       " 'jst change tat',\n",
       " 'guaranteed latest nokia phone gb ipod mp player prize txt word collect ibhltd ldnw h p mtmsgrcvd',\n",
       " 'competition',\n",
       " 'boltblue tone p reply poly mono eg poly cha cha slide yeah slow jamz toxic come stop tone txt',\n",
       " 'credit topped http www bubbletext com renewal pin tgxxrz',\n",
       " 'way transport le problematic sat night way u want ask n join bday feel free need know definite no booking fri',\n",
       " 'usually person unconscious child adult may behave abnormally call',\n",
       " 'ebay might le elsewhere',\n",
       " 'shall come get pickle',\n",
       " 'gonna go get taco',\n",
       " 'rude campus',\n",
       " 'urgent mobile awarded bonus caller prize nd attempt contact call box qu',\n",
       " 'hi b ard christmas enjoy n merry x ma',\n",
       " 'today offer claim ur worth discount voucher text yes savamob member offer mobile c sub unsub reply x',\n",
       " 'yes pretty lady like single',\n",
       " 'recieve tone within next hr term condition please see channel u teletext pg',\n",
       " 'jay say double faggot',\n",
       " 'private account statement show un redeemed point call identifier code expires',\n",
       " 'today sunday sunday holiday work',\n",
       " 'gudnite tc practice going',\n",
       " 'late',\n",
       " 'called hoping l r malaria know miss guy miss ban big pls give love especially great day',\n",
       " 'good afternoon love go day hope maybe got lead job think boytoy send passionate kiss across sea',\n",
       " 'probably gonna see later tonight lt',\n",
       " 'maybe fat finger press button know',\n",
       " 'ummmmmaah many many happy return day dear sweet heart happy birthday dear',\n",
       " 'tirupur da started office call',\n",
       " 'www applausestore com monthlysubscription p msg max month csc web age stop txt stop',\n",
       " 'famous quote develop ability listen anything unconditionally without losing temper self confidence mean married',\n",
       " 'going college pa else ill come self pa',\n",
       " 'oclock mine bash flat plan',\n",
       " 'girl stay bed girl need recovery time id rather pas fun cooped bed',\n",
       " 'special',\n",
       " 'know need get hotel got invitation apologise cali sweet come english bloke weddin',\n",
       " 'sorry took long omw',\n",
       " 'wait lt gt min',\n",
       " 'ok give minute think see btw alibi cutting hair whole time',\n",
       " 'imagine finally get sink bath put pace maybe even eat left also imagine feel cage cock surrounded bath water reminding always owns enjoy cuck',\n",
       " 'hurry weed deficient like three day',\n",
       " 'sure get acknowledgement astoundingly tactless generally faggy demand blood oath fo',\n",
       " 'ok every night take warm bath drink cup milk see work magic still need loose weight know',\n",
       " 'look frying pan case cheap book perhaps silly frying pan likely book',\n",
       " 'well uv cause mutation sunscreen like essential thesedays',\n",
       " 'lunch online',\n",
       " 'know friend already told',\n",
       " 'hi princess thank pic pretty',\n",
       " 'aiyo u always c ex one dunno abt mei reply first time u reply fast lucky workin huh got bao ur sugardad ah gee',\n",
       " 'hi msg office',\n",
       " 'thanx e brownie v nice',\n",
       " 'geeeee love much barely stand',\n",
       " 'gent trying contact last weekend draw show prize guaranteed call claim code k valid hr ppm',\n",
       " 'fuck babe miss already know let send money towards net need want crave',\n",
       " 'ill call u mrw ninish address icky american freek wont stop callin bad jen k eh',\n",
       " 'oooh bed ridden ey thinking',\n",
       " 'anyways go gym whatever love smile hope ok good day babe miss much already',\n",
       " 'love daddy make scream pleasure going slap as dick',\n",
       " 'wot u wanna missy',\n",
       " 'yar lor wait mum finish sch lunch lor whole morning stay home clean room room quite clean hee',\n",
       " 'know lab goggles went',\n",
       " 'open door',\n",
       " 'waiting call',\n",
       " 'nope waiting sch daddy',\n",
       " 'cash prize claim call',\n",
       " 'tired arguing week week want',\n",
       " 'wait sch finish ard',\n",
       " 'mobile number claim call u back ring claim hot line',\n",
       " 'arngd marriage u r walkin unfortuntly snake bite u bt love marriage dancing frnt snake amp sayin bite bite',\n",
       " 'huh early dinner outside izzit',\n",
       " 'ok anyway need change said',\n",
       " 'tried contact reply offer min textand new video phone call reply free delivery tomorrow',\n",
       " 'ex wife able kid want kid one day',\n",
       " 'scotland hope showing jjc tendency take care live dream',\n",
       " 'tell u headache want use hour sick time',\n",
       " 'dun thk quit yet hmmm go jazz yogasana oso go meet em lesson den',\n",
       " 'pete please ring meive hardly gotany credit',\n",
       " 'ya srsly better yi tho',\n",
       " 'meeting call later',\n",
       " 'ur chance win wkly shopping spree txt shop c www txt shop com custcare x p wk',\n",
       " 'specially selected receive pound award call line close cost ppm c apply ag promo',\n",
       " 'private account statement show un redeemed point call identifier code expires',\n",
       " 'still grand prix',\n",
       " 'met stranger choose friend long world stand friendship never end let friend forever gud nitz',\n",
       " 'great',\n",
       " 'gud mrng dear nice day',\n",
       " 'important customer service announcement call freephone',\n",
       " 'exhausted train morning much wine pie sleep well',\n",
       " 'going buy mum present ar',\n",
       " 'mind blastin tsunami occur rajnikant stopped swimming indian ocean',\n",
       " 'u sending home first ok lor ready yet',\n",
       " 'speaking cash yet',\n",
       " 'happy come noon',\n",
       " 'meet lunch la',\n",
       " 'take care n get well soon',\n",
       " 'xclusive clubsaisai morow soiree speciale zouk nichols paris free rose lady info',\n",
       " 'meant say cant wait see u getting bored bridgwater banter',\n",
       " 'neva mind ok',\n",
       " 'fine imma get drink somethin want come find',\n",
       " 'day kick euro u kept date latest news result daily removed send get txt stop',\n",
       " 'valentine game send dis msg ur friend answer r someone really love u ques colour suit best rply',\n",
       " 'many dependent',\n",
       " 'thanx today cer nice catch ave find time often oh well take care c u soon c',\n",
       " 'called said choose future',\n",
       " 'happy valentine day know early hundred handsomes beauty wish thought finish aunty uncle st',\n",
       " 'like v shock leh co telling shuhui like telling leona also like dat almost know liao got ask abt ur reaction lor',\n",
       " 'family happiness',\n",
       " 'come n pick come immediately aft ur lesson',\n",
       " 'let snow let snow kind weather brings ppl together friendship grow',\n",
       " 'dear got lt gt dollar hi hi',\n",
       " 'good word word may leave u dismay many time',\n",
       " 'make sure alex know birthday fifteen minute far concerned',\n",
       " 'sorry got thing may pub later',\n",
       " 'nah straight bring bud drink something actually little useful straight cash',\n",
       " 'haha good hear officially paid market th',\n",
       " 'many lick take get center tootsie pop',\n",
       " 'yup thk r e teacher said make face look longer darren ask cut short',\n",
       " 'new textbuddy chat horny guy ur area p free receive search postcode gaytextbuddy com txt one name',\n",
       " 'today vodafone number ending selected receive award number match call receive award',\n",
       " 'please dont say like hi hi hi',\n",
       " 'thank u',\n",
       " 'oh forwarded message thought send',\n",
       " 'got seventeen pound seven hundred ml hope ok',\n",
       " 'dear voucher holder claim week offer pc go http www e tlp co uk expressoffer t c apply stop text txt stop',\n",
       " 'n funny',\n",
       " 'sweetheart hope kind day one load reason smile biola',\n",
       " 'login dat time dad fetching home',\n",
       " 'shower baby',\n",
       " 'askd u question hour answer',\n",
       " 'well imma definitely need restock thanksgiving let know',\n",
       " 'said kiss kiss sound effect gorgeous man kind person need smile brighten day',\n",
       " 'probably gonna swing wee bit',\n",
       " 'ya nice ready thursday',\n",
       " 'allo braved bus taken train triumphed mean b ham jolly good rest week',\n",
       " 'watching cartoon listening music amp eve go temple amp church u',\n",
       " 'mind ask happened dont say uncomfortable',\n",
       " 'private account statement show un redeemed point call identifier code expires',\n",
       " 'prob send email',\n",
       " 'cash prize claim call c rstm sw s ppm',\n",
       " 'thats cool sometimes slow gentle sonetimes rough hard',\n",
       " 'gonna say sorry would normal starting panic time sorry seeing tuesday',\n",
       " 'wait know wesley town bet hella drug',\n",
       " 'fine miss much',\n",
       " 'u got person story',\n",
       " 'tell drug dealer getting impatient',\n",
       " 'sun cant come earth send luv ray cloud cant come river send luv rain cant come meet u send care msg u gud evng',\n",
       " 'place man',\n",
       " 'doesnt make sense take unless free need know wikipedia com',\n",
       " 'premium phone service call',\n",
       " 'sea lay rock rock envelope envelope paper paper word',\n",
       " 'mum repent',\n",
       " 'sorry going home first daddy come fetch later',\n",
       " 'leave de start prepare next',\n",
       " 'yes baby study position kama sutra',\n",
       " 'en chikku nange bakra msg kalstiya tea coffee',\n",
       " 'carlos minute still need buy',\n",
       " 'pay lt decimal gt lakh',\n",
       " 'good evening ttyl',\n",
       " 'u receive msg',\n",
       " 'ho ho big belly laugh see ya tomo',\n",
       " 'sm ac sun post hello seem cool',\n",
       " 'get ur st ringtone free reply msg tone gr top tone phone every week per wk opt send stop',\n",
       " 'ditto worry saying anything anymore like said last night whatever want peace',\n",
       " 'got lt gt way could pick',\n",
       " 'dont knw pa drink milk',\n",
       " 'maybe say hi find got card great escape wetherspoons',\n",
       " 'piggy r u awake bet u still sleeping going lunch',\n",
       " 'cause freaky lol',\n",
       " 'missed call cause yelling scrappy miss u wait u come home lonely today',\n",
       " 'hex place talk explain',\n",
       " 'log wat sdryb',\n",
       " 'xy going e lunch',\n",
       " 'hi sue year old work lapdancer love sex text live bedroom text sue textoperator g da ppmsg',\n",
       " 'wanted ask wait finish lect co lect finish hour anyway',\n",
       " 'finished work yet',\n",
       " 'every king cry baby every great building map imprtant u r today u wil reach tomorw gud ni',\n",
       " 'dear cherthala case u r coming cochin pls call bfore u start shall also reach accordingly tell day u r coming tmorow engaged an holiday',\n",
       " 'thanks love torch bold',\n",
       " 'forwarded please call immediately urgent message waiting',\n",
       " 'farm open',\n",
       " 'sorry trouble u buy dad big small sat n sun thanx',\n",
       " 'sister law hope great month saying hey abiola',\n",
       " 'purchase stuff today mail po box number',\n",
       " 'ah poop look like ill prob send laptop get fixed cuz gpu problem',\n",
       " 'good good job like entrepreneur',\n",
       " 'aight close still around alex place',\n",
       " 'meet corporation st outside gap see mind working',\n",
       " 'mum ask buy food home',\n",
       " 'k u also dont msg reply msg',\n",
       " 'much r willing pay',\n",
       " 'sorry call later',\n",
       " 'important prevent dehydration giving enough fluid',\n",
       " 'thats bit weird even supposed happening good idea sure pub',\n",
       " 'true dear sat pray evening felt sm time',\n",
       " 'think get away trek long family town sorry',\n",
       " 'wanna gym harri',\n",
       " 'quite late lar ard anyway wun b drivin',\n",
       " 'review keep fantastic nokia n gage game deck club nokia go www cnupdates com newsletter unsubscribe alert reply word',\n",
       " 'mths half price orange line rental latest camera phone free phone mths call mobilesdirect free update stoptxt c',\n",
       " 'height confidence aeronautics professor wer calld amp wer askd sit aeroplane aftr sat wer told dat plane w made student dey hurried plane bt didnt move said made student',\n",
       " 'seems like weird timing night g want come smoke day shitstorm attributed always coming making everyone smoke',\n",
       " 'pm cost p',\n",
       " 'save stress person dorm account send account detail money sent',\n",
       " 'also know lunch menu da know',\n",
       " 'stuff sell tell',\n",
       " 'urgent nd attempt contact u u call b csbcm wc n xx callcost ppm mobilesvary max',\n",
       " 'book lesson msg call work sth going get spec membership px',\n",
       " 'guaranteed cash prize claim yr prize call customer service representative pm',\n",
       " 'macha dont feel upset assume mindset believe one evening wonderful plan u let life begin call anytime',\n",
       " 'oh send address',\n",
       " 'fine anytime best',\n",
       " 'wondar full flim',\n",
       " 'ya even cooky jelly',\n",
       " 'world running still maybe feeling admit mad correction let call life keep running world may u r also running let run',\n",
       " 'got look scrumptious daddy want eat night long',\n",
       " 'co lar ba dao ok pm lor u never ask go ah said u would ask fri said u ask today',\n",
       " 'alright omw gotta change order half th',\n",
       " 'exactly anyways far jide study visiting',\n",
       " 'dunno u ask',\n",
       " 'email alertfrom jeri stewartsize kbsubject low cost prescripiton drvgsto listen email call',\n",
       " 'spring coming early yay',\n",
       " 'lol feel bad use money take steak dinner',\n",
       " 'even u dont get trouble convincing tel twice tel neglect msg dont c read dont reply',\n",
       " 'leaving qatar tonite search opportunity went fast pls add ur prayer dear rakhesh',\n",
       " 'one talking',\n",
       " 'thanks looking really appreciate',\n",
       " 'hi customer loyalty offer new nokia mobile txtauction txt word start get ctxt tc p mtmsg',\n",
       " 'wish',\n",
       " 'haha mayb u rite u know well da feeling liked someone gd lor u faster go find one gal group attached liao',\n",
       " 'yes glad made',\n",
       " 'well little time thing good time ahead',\n",
       " 'got room soon put clock back til shouted everyone get realised wahay another hour bed',\n",
       " 'ok may free gym',\n",
       " 'men like shorter lady gaze eye',\n",
       " 'dunno jus say go lido time',\n",
       " 'promise take good care princess run please send pic get chance ttyl',\n",
       " 'u subscribed best mobile content service uk per day send stop helpline',\n",
       " 'reason spoken year anyways great week best exam',\n",
       " 'monday next week give full gist',\n",
       " 'realize year thousand old lady running around tattoo',\n",
       " 'important customer service announcement premier',\n",
       " 'dont gimme lip caveboy',\n",
       " 'get library',\n",
       " 'realy sorry recognise number confused r u please',\n",
       " 'didnt holla',\n",
       " 'cant think anyone spare room top head',\n",
       " 'faith make thing possible hope make thing work love make thing beautiful may three christmas merry christmas',\n",
       " 'u made appointment',\n",
       " 'call carlos phone vibrate acting might hear text',\n",
       " 'romantic paris night flight book next year call t c apply',\n",
       " 'grandma oh dear u still ill felt shit morning think hungover another night leave sat',\n",
       " 'urgent ur guaranteed award still unclaimed call closingdate claimcode pmmorefrommobile bremoved mobypobox l yf',\n",
       " 'nothing jus tot u would ask co u ba gua went mt faber yest yest jus went already mah today going jus call lor',\n",
       " 'wishing family merry x ma happy new year advance',\n",
       " 'ur awarded city break could win summer shopping spree every wk txt store skilgme tscs winawk age perwksub',\n",
       " 'nt goin got somethin unless meetin dinner lor haha wonder go ti time',\n",
       " 'sorry call later',\n",
       " 'cant pick phone right pls send message',\n",
       " 'lol know dramatic school already closed tomorrow apparently drive inch snow supposed get',\n",
       " 'getting anywhere damn job hunting',\n",
       " 'lol u drunkard hair moment yeah still tonight wats plan',\n",
       " 'idc get weaseling way shit twice row',\n",
       " 'wil lt gt minute got space',\n",
       " 'sleeping surfing',\n",
       " 'thanks picking trash',\n",
       " 'go tell friend sure want live smoke much spend hour begging come smoke',\n",
       " 'hi kate lovely see tonight ill phone tomorrow got sing guy gave card xxx',\n",
       " 'happy new year dear brother really miss got number decided send text wishing happiness abiola',\n",
       " 'mean get door',\n",
       " 'opinion jada kusruthi lovable silent spl character matured stylish simple pls reply',\n",
       " 'hmmm thought said hour slave late punish',\n",
       " 'beerage',\n",
       " 'important customer service announcement premier call freephone',\n",
       " 'dont think turn like randomlly within min opening',\n",
       " 'supposed make still town though',\n",
       " 'time fix spelling sometimes get completely diff word go figure',\n",
       " 'ever thought living good life perfect partner txt back name age join mobile community p sm',\n",
       " 'free top polyphonic tone call national rate get toppoly tune sent every week text subpoly per pole unsub',\n",
       " 'gud mrng dear hav nice day',\n",
       " 'hoping enjoyed game yesterday sorry touch pls know fondly bein thot great week abiola',\n",
       " 'e best ur driving tmr',\n",
       " 'u dogbreath sounding like jan c al',\n",
       " 'omg want scream weighed lost weight woohoo',\n",
       " 'generally one uncountable noun u dictionary piece research',\n",
       " 'really getting hanging around',\n",
       " 'orange customer may claim free camera phone upgrade loyalty call offer end thmarch c apply opt availa',\n",
       " 'petey boy whereare friendsare thekingshead come canlove nic',\n",
       " 'ok msg u b leave house',\n",
       " 'gimme lt gt minute ago',\n",
       " 'last chance claim ur worth discount voucher today text shop savamob offer mobile c savamob pobox uz sub',\n",
       " 'appt lt time gt fault u listen told u twice',\n",
       " 'free st week nokia tone ur mobile every week txt nokia get txting tell ur mate www getzed co uk pobox w wq norm p tone',\n",
       " 'guaranteed award even cashto claim ur award call free stop getstop php rg jx',\n",
       " 'k',\n",
       " 'dled imp',\n",
       " 'sure make sure know smokin yet',\n",
       " 'boooo always work quit',\n",
       " 'taking half day leave bec well',\n",
       " 'ugh wanna get bed warm',\n",
       " 'nervous lt gt',\n",
       " 'ring come guy costume gift future yowifes hint hint',\n",
       " 'congratulation ur awarded either cd gift voucher free entry weekly draw txt music tncs www ldew com win ppmx age',\n",
       " 'borrow ur bag ok',\n",
       " 'u outbid simonwatson shinco dvd plyr bid visit sm ac smsrewards end bid notification reply end',\n",
       " 'boytoy miss happened',\n",
       " 'lot used one babe model help youi bring match',\n",
       " 'also bringing galileo dobby',\n",
       " 'responding',\n",
       " 'boo babe u enjoyin yourjob u seemed b gettin well hunny hope ure ok take care llspeak u soonlots loveme xxxx',\n",
       " 'good afternoon starshine boytoy crave yet ache fuck sip cappuccino miss babe teasing kiss',\n",
       " 'road cant txt',\n",
       " 'smsservices yourinclusive text credit pls goto www comuk net login qxj unsubscribe stop extra charge help comuk cm ae',\n",
       " 'p alfie moon child need song ur mob tell ur txt tone charity nokias poly charity polys zed profit charity',\n",
       " 'good evening ttyl',\n",
       " 'hmm bit piece lol sigh',\n",
       " 'hahaha use brain dear',\n",
       " 'hey got mail',\n",
       " 'sorry light turned green meant another friend wanted lt gt worth may around',\n",
       " 'thanks yesterday sir wonderful hope enjoyed burial mojibiola',\n",
       " 'u secret admirer reveal think u r special call opt reply reveal stop per msg recd cust care',\n",
       " 'hi mate rv u hav nice hol message say hello coz sent u age started driving stay road rvx',\n",
       " 'dear voucher holder claim week offer pc please go http www e tlp co uk expressoffer t c apply stop text txt stop',\n",
       " 'thank much skyped wit kz sura didnt get pleasure company hope good given ultimatum oh countin aburo enjoy message sent day ago',\n",
       " 'surely result offer',\n",
       " 'good morning dear great amp successful day',\n",
       " 'want anytime network min text new video phone five pound per week call reply delivery tomorrow',\n",
       " 'sir late paying rent past month pay lt gt charge felt would inconsiderate nag something give great cost didnt speak however recession wont able pay charge month hence askin well ahead month end please help thanks',\n",
       " 'tried contact offer new video phone anytime network min half price rental camcorder call reply delivery wed',\n",
       " 'last chance claim ur worth discount voucher text yes savamob member offer mobile c sub remove txt x stop',\n",
       " 'luv u soo much u understand special u r ring u morrow luv u xxx',\n",
       " 'pls send comprehensive mail paying much',\n",
       " 'prashanthettan mother passed away last night pray family',\n",
       " 'urgent call landline complimentary ibiza holiday cash await collection sae c po box sk wp ppm',\n",
       " 'k k going',\n",
       " 'meanwhile shit suite xavier decided give u lt gt second warning samantha coming playing jay guitar impress shit also think doug realizes live anymore',\n",
       " 'stomach thru much trauma swear eat better lose weight',\n",
       " 'office whats matter msg call break',\n",
       " 'yeah barely enough room two u x many fucking shoe sorry man see later',\n",
       " 'today offer claim ur worth discount voucher text yes savamob member offer mobile c sub unsub reply x',\n",
       " 'u reach orchard already u wan go buy ticket first',\n",
       " 'real baby want bring inner tigress',\n",
       " 'da run activate full version da',\n",
       " 'ah poor baby hope urfeeling bettersn luv probthat overdose work hey go careful spk u sn lot lovejen xxx',\n",
       " 'stop story told returned saying order',\n",
       " 'talk sexy make new friend fall love world discreet text dating service text vip see could meet',\n",
       " 'going take babe',\n",
       " 'hai ana tomarrow coming morning lt decimal gt ill sathy go rto office reply came home',\n",
       " 'spoon okay',\n",
       " 'say somebody named tampa',\n",
       " 'work going min',\n",
       " 'brother genius',\n",
       " 'sorry guess whenever get hold connection maybe hour two text',\n",
       " 'u find time bus coz need sort stuff',\n",
       " 'dude ive seeing lotta corvette lately',\n",
       " 'congratulation ur awarded either yr supply cd virgin record mystery gift guaranteed call t c www smsco net pm approx min',\n",
       " 'consider wall bunker shit important never play peaceful guess place high enough matter',\n",
       " 'private account statement xxxxxx show un redeemed point call identifier code expires',\n",
       " 'hello need posh bird chap user trial prod champneys put need address dob asap ta r',\n",
       " 'u want xmas free text message new video phone half price line rental call free find',\n",
       " 'well officially philosophical hole u wanna call home ready saved',\n",
       " 'going good problem still need little experience understand american customer voice',\n",
       " 'text drop x',\n",
       " 'ugh long day exhausted want cuddle take nap',\n",
       " 'talk atleast day otherwise miss best friend world shakespeare shesil lt gt',\n",
       " 'shop till u drop either k k cash travel voucher call ntt po box cr bt fixedline cost ppm mobile vary',\n",
       " 'castor need see something',\n",
       " 'sunshine quiz wkly q win top sony dvd player u know country liverpool played mid week txt ansr sp tyrone',\n",
       " 'u secret admirer looking make contact u find r reveal think ur special call',\n",
       " 'u secret admirer looking make contact u find r reveal think ur special call stopsms',\n",
       " 'reminder downloaded content already paid goto http doit mymoby tv collect content',\n",
       " 'see knew giving break time woul lead always wanting miss curfew gonna gibe til one midnight movie gonna get til need come home need getsleep anything need b studdying ear training',\n",
       " 'love give massage use lot baby oil fave position',\n",
       " 'dude go sup',\n",
       " 'yoyyooo u know change permission drive mac usb flash drive',\n",
       " 'gibbs unsold mike hussey',\n",
       " 'like talk pa able dont know',\n",
       " 'dun cut short leh u dun like ah failed quite sad',\n",
       " 'unbelievable faglord',\n",
       " 'wife knew time murder exactly',\n",
       " 'ask princess',\n",
       " 'great princess thinking',\n",
       " 'nutter cutter ctter cttergg cttargg ctargg ctagg ie',\n",
       " 'ok noe u busy really bored msg u oso dunno wat colour choose one',\n",
       " 'g class early tomorrow thus trying smoke lt gt',\n",
       " 'superb thought grateful u dont everything u want mean u still opportunity happier tomorrow u today',\n",
       " 'hope good week checking',\n",
       " 'used hope agent drop since booked thing year whole boston nyc experiment',\n",
       " 'thursday night yeah sure thing work',\n",
       " 'free ringtone waiting collected simply text password mix verify get usher britney fml',\n",
       " 'probably money worry thing coming due several outstanding invoice work two three month ago',\n",
       " 'possible teach',\n",
       " 'wonder phone battery went dead tell love babe',\n",
       " 'lovely smell bus tobacco',\n",
       " 'getting worried derek taylor already assumed worst',\n",
       " 'hey charles sorry late reply',\n",
       " 'lastest stereophonics marley dizzee racal libertine stroke win nookii game flirt click themob wap bookmark text wap',\n",
       " 'give plus said grinule greet whenever speak',\n",
       " 'white fudge oreo store',\n",
       " 'january male sale hot gay chat cheaper call national rate p min cheap p min peak stop text call p min',\n",
       " 'love come took long leave zaher got word ym happy see sad left miss',\n",
       " 'sorry hurt',\n",
       " 'feel nauseous pissed eat sweet week cause today planning pig dieting week hungry',\n",
       " 'ok lor early still project meeting',\n",
       " 'call da waiting call',\n",
       " 'could ask carlos could get anybody else chip',\n",
       " 'actually send reminder today wonderful weekend',\n",
       " 'people see msg think iam addicted msging wrong bcoz know iam addicted sweet friend bslvyl',\n",
       " 'hey gave photo registered driving ah tmr wanna meet yck',\n",
       " 'dont talk ever ok word',\n",
       " 'u wana see',\n",
       " 'way school pls send ashley number',\n",
       " 'shall fine avalarr hollalater',\n",
       " 'went attend another two round today still reach home',\n",
       " 'actually deleted old website blogging magicalsongs blogspot com',\n",
       " 'k wait chikku il send aftr lt gt min',\n",
       " 'diet ate many slice pizza yesterday ugh always diet',\n",
       " 'k give kvb acc detail',\n",
       " 'oh come ah',\n",
       " 'money r lucky winner claim prize text money million give away ppt x normal text rate box w jy',\n",
       " 'really sorry b able friday hope u find alternative hope yr term going ok',\n",
       " 'congratulation ore mo owo wa enjoy wish many happy moment fro wherever go',\n",
       " 'samus shoulder yet',\n",
       " 'time think need know near campus',\n",
       " 'dear matthew please call landline complimentary lux tenerife holiday cash await collection ppm sae c box sk xh',\n",
       " 'dun wear jean lor',\n",
       " 'since side fever vomitin',\n",
       " 'k k college',\n",
       " 'urgent call landline complimentary tenerife holiday cash await collection sae c box hp yf ppm',\n",
       " 'better made friday stuffed like pig yesterday feel bleh least writhing pain kind bleh',\n",
       " 'sell ton coin sell coin someone thru paypal voila money back life pocket',\n",
       " 'theyre lot place hospital medical place safe',\n",
       " 'getting touch folk waiting company txt back name age opt enjoy community p sm',\n",
       " 'also sorta blown couple time recently id rather text blue looking weed',\n",
       " 'sent score sophas secondary application school think thinking applying research cost also contact joke ogunrinde school one le expensive one',\n",
       " 'cant wait see photo useful',\n",
       " 'ur cash balance currently pound maximize ur cash send go p msg cc po box tcr w',\n",
       " 'hey booked kb sat already lesson going ah keep sat night free need meet confirm lodging',\n",
       " 'chk ur belovd m dict',\n",
       " 'time want come',\n",
       " 'awesome lemme know whenever around',\n",
       " 'shb b ok lor thanx',\n",
       " 'beautiful truth gravity read carefully heart feel light someone feel heavy someone leaf good night',\n",
       " 'also remember get dobby bowl car',\n",
       " 'filthy story girl waiting',\n",
       " 'sorry c ur msg yar lor poor thing one night tmr u brand new room sleep',\n",
       " 'love decision feeling could decide love life would much simpler le magical',\n",
       " 'welp apparently retired',\n",
       " 'sort code acc bank natwest reply confirm sent right person',\n",
       " '',\n",
       " 'u sure u take sick time',\n",
       " 'urgent trying contact u today draw show prize guaranteed call land line claim valid hr',\n",
       " 'watching cartoon listening music amp eve go temple amp church u',\n",
       " 'yo chad gymnastics class wanna take site say christian class full',\n",
       " 'much buzy',\n",
       " 'better still catch let ask sell lt gt',\n",
       " 'sure night menu know noon menu',\n",
       " 'u want come back beautiful necklace token heart thats give wife liking see one give dont call wait till come',\n",
       " 'willing go aptitude class',\n",
       " 'wont b trying sort house ok',\n",
       " 'yar lor wan go c horse racing today mah eat earlier lor ate chicken rice u',\n",
       " 'haha awesome omw back',\n",
       " 'yup thk e shop close lor',\n",
       " 'account number',\n",
       " 'eh u send wrongly lar',\n",
       " 'hey ad crap nite borin without ya boggy u boring biatch thanx u wait til nxt time il ave ya',\n",
       " 'ok shall talk',\n",
       " 'dont hesitate know second time weakness like keep notebook eat day anything changed day sure nothing',\n",
       " 'hey pay salary de lt gt',\n",
       " 'another month need chocolate weed alcohol',\n",
       " 'started searching get job day great potential talent',\n",
       " 'reckon need town eightish walk carpark',\n",
       " 'congrats mobile g videophones r call videochat wid mate play java game dload polyph music noline rentl',\n",
       " 'look fuckin time fuck think',\n",
       " 'yo guess dropped',\n",
       " 'carlos say mu lt gt minute',\n",
       " 'office call lt gt min',\n",
       " 'geeee miss already know think fuck wait till next year together loving kiss',\n",
       " 'yun ah ubi one say wan call tomorrow call look irene ere got bus ubi cres ubi tech park ph st wkg day n',\n",
       " 'ugh gotta drive back sd la butt sore',\n",
       " 'th july',\n",
       " 'hi im relaxing time ever get every day party good night get home tomorrow ish',\n",
       " 'wan come come lor din c stripe skirt',\n",
       " 'xmas story peace xmas msg love xmas miracle jesus hav blessed month ahead amp wish u merry xmas',\n",
       " 'number',\n",
       " 'change e one next escalator',\n",
       " 'yetunde class run water make ok pls',\n",
       " 'lot happened feel quiet beth aunt charlie working lot helen mo',\n",
       " 'wait bus stop aft ur lect lar dun c go get car come back n pick',\n",
       " 'aight thanks comin',\n",
       " ...]"
      ]
     },
     "execution_count": 62,
     "metadata": {},
     "output_type": "execute_result"
    }
   ],
   "source": [
    "corpus"
   ]
  },
  {
   "cell_type": "code",
   "execution_count": 63,
   "id": "57f11baa-3b60-4003-94e2-bd568506a16e",
   "metadata": {},
   "outputs": [],
   "source": [
    "cv = CountVectorizer()\n",
    "x = cv.fit_transform(corpus).toarray()"
   ]
  },
  {
   "cell_type": "code",
   "execution_count": 64,
   "id": "f9456d74-e8f9-41e7-b8ef-035ef51c14e9",
   "metadata": {},
   "outputs": [
    {
     "data": {
      "text/plain": [
       "array([[0, 0, 0, ..., 0, 0, 0],\n",
       "       [0, 0, 0, ..., 0, 0, 0],\n",
       "       [0, 0, 0, ..., 0, 0, 0],\n",
       "       ...,\n",
       "       [0, 0, 0, ..., 0, 0, 0],\n",
       "       [0, 0, 0, ..., 0, 0, 0],\n",
       "       [0, 0, 0, ..., 0, 0, 0]], dtype=int64)"
      ]
     },
     "execution_count": 64,
     "metadata": {},
     "output_type": "execute_result"
    }
   ],
   "source": [
    "x"
   ]
  },
  {
   "cell_type": "code",
   "execution_count": 65,
   "id": "949675ab-76de-4608-93a3-a68616d3d0cc",
   "metadata": {},
   "outputs": [],
   "source": [
    "y = df['v1'].iloc[:].values"
   ]
  },
  {
   "cell_type": "code",
   "execution_count": 66,
   "id": "a6662cfc-d265-4b77-97fb-b3ab04e6c57a",
   "metadata": {},
   "outputs": [
    {
     "data": {
      "text/plain": [
       "array(['ham', 'ham', 'spam', ..., 'ham', 'ham', 'ham'], dtype=object)"
      ]
     },
     "execution_count": 66,
     "metadata": {},
     "output_type": "execute_result"
    }
   ],
   "source": [
    "y"
   ]
  },
  {
   "cell_type": "markdown",
   "id": "3e5d4ec7-5fc5-42e2-86cf-aaa39561ec9b",
   "metadata": {},
   "source": [
    "# Train Test Split"
   ]
  },
  {
   "cell_type": "code",
   "execution_count": 68,
   "id": "af1f643e-2a89-462e-b19b-d6d6e9c2eeee",
   "metadata": {},
   "outputs": [],
   "source": [
    "from sklearn.model_selection import train_test_split\n",
    "x_train,x_test,y_train,y_test = train_test_split(x,y, random_state = 100, test_size=0.2)"
   ]
  },
  {
   "cell_type": "markdown",
   "id": "6f6841cf-3081-41c7-bbc1-4e0420c36023",
   "metadata": {},
   "source": [
    "# Model Building"
   ]
  },
  {
   "cell_type": "code",
   "execution_count": null,
   "id": "4907f5a1-787c-4c63-b9a7-9e883c84b6cc",
   "metadata": {},
   "outputs": [
    {
     "data": {
      "text/html": [
       "<style>#sk-container-id-1 {color: black;background-color: white;}#sk-container-id-1 pre{padding: 0;}#sk-container-id-1 div.sk-toggleable {background-color: white;}#sk-container-id-1 label.sk-toggleable__label {cursor: pointer;display: block;width: 100%;margin-bottom: 0;padding: 0.3em;box-sizing: border-box;text-align: center;}#sk-container-id-1 label.sk-toggleable__label-arrow:before {content: \"▸\";float: left;margin-right: 0.25em;color: #696969;}#sk-container-id-1 label.sk-toggleable__label-arrow:hover:before {color: black;}#sk-container-id-1 div.sk-estimator:hover label.sk-toggleable__label-arrow:before {color: black;}#sk-container-id-1 div.sk-toggleable__content {max-height: 0;max-width: 0;overflow: hidden;text-align: left;background-color: #f0f8ff;}#sk-container-id-1 div.sk-toggleable__content pre {margin: 0.2em;color: black;border-radius: 0.25em;background-color: #f0f8ff;}#sk-container-id-1 input.sk-toggleable__control:checked~div.sk-toggleable__content {max-height: 200px;max-width: 100%;overflow: auto;}#sk-container-id-1 input.sk-toggleable__control:checked~label.sk-toggleable__label-arrow:before {content: \"▾\";}#sk-container-id-1 div.sk-estimator input.sk-toggleable__control:checked~label.sk-toggleable__label {background-color: #d4ebff;}#sk-container-id-1 div.sk-label input.sk-toggleable__control:checked~label.sk-toggleable__label {background-color: #d4ebff;}#sk-container-id-1 input.sk-hidden--visually {border: 0;clip: rect(1px 1px 1px 1px);clip: rect(1px, 1px, 1px, 1px);height: 1px;margin: -1px;overflow: hidden;padding: 0;position: absolute;width: 1px;}#sk-container-id-1 div.sk-estimator {font-family: monospace;background-color: #f0f8ff;border: 1px dotted black;border-radius: 0.25em;box-sizing: border-box;margin-bottom: 0.5em;}#sk-container-id-1 div.sk-estimator:hover {background-color: #d4ebff;}#sk-container-id-1 div.sk-parallel-item::after {content: \"\";width: 100%;border-bottom: 1px solid gray;flex-grow: 1;}#sk-container-id-1 div.sk-label:hover label.sk-toggleable__label {background-color: #d4ebff;}#sk-container-id-1 div.sk-serial::before {content: \"\";position: absolute;border-left: 1px solid gray;box-sizing: border-box;top: 0;bottom: 0;left: 50%;z-index: 0;}#sk-container-id-1 div.sk-serial {display: flex;flex-direction: column;align-items: center;background-color: white;padding-right: 0.2em;padding-left: 0.2em;position: relative;}#sk-container-id-1 div.sk-item {position: relative;z-index: 1;}#sk-container-id-1 div.sk-parallel {display: flex;align-items: stretch;justify-content: center;background-color: white;position: relative;}#sk-container-id-1 div.sk-item::before, #sk-container-id-1 div.sk-parallel-item::before {content: \"\";position: absolute;border-left: 1px solid gray;box-sizing: border-box;top: 0;bottom: 0;left: 50%;z-index: -1;}#sk-container-id-1 div.sk-parallel-item {display: flex;flex-direction: column;z-index: 1;position: relative;background-color: white;}#sk-container-id-1 div.sk-parallel-item:first-child::after {align-self: flex-end;width: 50%;}#sk-container-id-1 div.sk-parallel-item:last-child::after {align-self: flex-start;width: 50%;}#sk-container-id-1 div.sk-parallel-item:only-child::after {width: 0;}#sk-container-id-1 div.sk-dashed-wrapped {border: 1px dashed gray;margin: 0 0.4em 0.5em 0.4em;box-sizing: border-box;padding-bottom: 0.4em;background-color: white;}#sk-container-id-1 div.sk-label label {font-family: monospace;font-weight: bold;display: inline-block;line-height: 1.2em;}#sk-container-id-1 div.sk-label-container {text-align: center;}#sk-container-id-1 div.sk-container {/* jupyter's `normalize.less` sets `[hidden] { display: none; }` but bootstrap.min.css set `[hidden] { display: none !important; }` so we also need the `!important` here to be able to override the default hidden behavior on the sphinx rendered scikit-learn.org. See: https://github.com/scikit-learn/scikit-learn/issues/21755 */display: inline-block !important;position: relative;}#sk-container-id-1 div.sk-text-repr-fallback {display: none;}</style><div id=\"sk-container-id-1\" class=\"sk-top-container\"><div class=\"sk-text-repr-fallback\"><pre>GaussianNB()</pre><b>In a Jupyter environment, please rerun this cell to show the HTML representation or trust the notebook. <br />On GitHub, the HTML representation is unable to render, please try loading this page with nbviewer.org.</b></div><div class=\"sk-container\" hidden><div class=\"sk-item\"><div class=\"sk-estimator sk-toggleable\"><input class=\"sk-toggleable__control sk-hidden--visually\" id=\"sk-estimator-id-1\" type=\"checkbox\" checked><label for=\"sk-estimator-id-1\" class=\"sk-toggleable__label sk-toggleable__label-arrow\">GaussianNB</label><div class=\"sk-toggleable__content\"><pre>GaussianNB()</pre></div></div></div></div></div>"
      ],
      "text/plain": [
       "GaussianNB()"
      ]
     },
     "execution_count": 70,
     "metadata": {},
     "output_type": "execute_result"
    }
   ],
   "source": [
    "from sklearn.naive_bayes import GaussianNB, MultinomialNB\n",
    "model_gnb = GaussianNB()\n",
    "model_gnb.fit(x_train,y_train)"
   ]
  },
  {
   "cell_type": "markdown",
   "id": "856cb2f7-2bb5-46bf-8451-ce49936a762b",
   "metadata": {},
   "source": [
    "# y_pred"
   ]
  },
  {
   "cell_type": "code",
   "execution_count": 72,
   "id": "b9801681-79ee-4f44-bbf3-bd7677e71515",
   "metadata": {},
   "outputs": [],
   "source": [
    "y_pred = model_gnb.predict(x_test)"
   ]
  },
  {
   "cell_type": "markdown",
   "id": "c3131e32-cdc2-4a1e-9876-df5b386d8079",
   "metadata": {},
   "source": [
    "### Training Accuracy"
   ]
  },
  {
   "cell_type": "code",
   "execution_count": 74,
   "id": "b3f6eb8b-e60a-42dd-87b2-778e6369e144",
   "metadata": {},
   "outputs": [
    {
     "data": {
      "text/plain": [
       "0.9315683194974198"
      ]
     },
     "execution_count": 74,
     "metadata": {},
     "output_type": "execute_result"
    }
   ],
   "source": [
    "model_gnb.score(x_train,y_train)"
   ]
  },
  {
   "cell_type": "code",
   "execution_count": 75,
   "id": "d24b8aa9-0dca-47ce-bc34-6f7efc31fd59",
   "metadata": {},
   "outputs": [
    {
     "data": {
      "text/plain": [
       "0.8771300448430494"
      ]
     },
     "execution_count": 75,
     "metadata": {},
     "output_type": "execute_result"
    }
   ],
   "source": [
    "model_gnb.score(x_test,y_test)"
   ]
  },
  {
   "cell_type": "code",
   "execution_count": 78,
   "id": "81bcf98d-aecd-4631-a905-db2c24842612",
   "metadata": {},
   "outputs": [],
   "source": [
    "from sklearn.metrics import accuracy_score, confusion_matrix, classification_report"
   ]
  },
  {
   "cell_type": "code",
   "execution_count": 79,
   "id": "da31dfd1-ccda-466a-9439-4f2b54b1e2e9",
   "metadata": {},
   "outputs": [],
   "source": [
    "cm = confusion_matrix(y_test,y_pred)"
   ]
  },
  {
   "cell_type": "code",
   "execution_count": 80,
   "id": "28b3115c-da32-4f0b-b956-b131a5bc7126",
   "metadata": {},
   "outputs": [
    {
     "data": {
      "text/plain": [
       "array([[851, 119],\n",
       "       [ 18, 127]], dtype=int64)"
      ]
     },
     "execution_count": 80,
     "metadata": {},
     "output_type": "execute_result"
    }
   ],
   "source": [
    "cm"
   ]
  },
  {
   "cell_type": "code",
   "execution_count": 81,
   "id": "90fc23d7-3d4f-4e8a-9bf1-643393bd40b6",
   "metadata": {},
   "outputs": [],
   "source": [
    "cr = classification_report(y_test,y_pred)"
   ]
  },
  {
   "cell_type": "code",
   "execution_count": 83,
   "id": "588f3784-3324-4b2e-8f23-dcbc736ac801",
   "metadata": {},
   "outputs": [
    {
     "name": "stdout",
     "output_type": "stream",
     "text": [
      "              precision    recall  f1-score   support\n",
      "\n",
      "         ham       0.98      0.88      0.93       970\n",
      "        spam       0.52      0.88      0.65       145\n",
      "\n",
      "    accuracy                           0.88      1115\n",
      "   macro avg       0.75      0.88      0.79      1115\n",
      "weighted avg       0.92      0.88      0.89      1115\n",
      "\n"
     ]
    }
   ],
   "source": [
    "print(cr)"
   ]
  },
  {
   "cell_type": "code",
   "execution_count": 84,
   "id": "7769e1d0-dc52-44a7-9d29-b05dab19465e",
   "metadata": {},
   "outputs": [
    {
     "data": {
      "text/html": [
       "<style>#sk-container-id-2 {color: black;background-color: white;}#sk-container-id-2 pre{padding: 0;}#sk-container-id-2 div.sk-toggleable {background-color: white;}#sk-container-id-2 label.sk-toggleable__label {cursor: pointer;display: block;width: 100%;margin-bottom: 0;padding: 0.3em;box-sizing: border-box;text-align: center;}#sk-container-id-2 label.sk-toggleable__label-arrow:before {content: \"▸\";float: left;margin-right: 0.25em;color: #696969;}#sk-container-id-2 label.sk-toggleable__label-arrow:hover:before {color: black;}#sk-container-id-2 div.sk-estimator:hover label.sk-toggleable__label-arrow:before {color: black;}#sk-container-id-2 div.sk-toggleable__content {max-height: 0;max-width: 0;overflow: hidden;text-align: left;background-color: #f0f8ff;}#sk-container-id-2 div.sk-toggleable__content pre {margin: 0.2em;color: black;border-radius: 0.25em;background-color: #f0f8ff;}#sk-container-id-2 input.sk-toggleable__control:checked~div.sk-toggleable__content {max-height: 200px;max-width: 100%;overflow: auto;}#sk-container-id-2 input.sk-toggleable__control:checked~label.sk-toggleable__label-arrow:before {content: \"▾\";}#sk-container-id-2 div.sk-estimator input.sk-toggleable__control:checked~label.sk-toggleable__label {background-color: #d4ebff;}#sk-container-id-2 div.sk-label input.sk-toggleable__control:checked~label.sk-toggleable__label {background-color: #d4ebff;}#sk-container-id-2 input.sk-hidden--visually {border: 0;clip: rect(1px 1px 1px 1px);clip: rect(1px, 1px, 1px, 1px);height: 1px;margin: -1px;overflow: hidden;padding: 0;position: absolute;width: 1px;}#sk-container-id-2 div.sk-estimator {font-family: monospace;background-color: #f0f8ff;border: 1px dotted black;border-radius: 0.25em;box-sizing: border-box;margin-bottom: 0.5em;}#sk-container-id-2 div.sk-estimator:hover {background-color: #d4ebff;}#sk-container-id-2 div.sk-parallel-item::after {content: \"\";width: 100%;border-bottom: 1px solid gray;flex-grow: 1;}#sk-container-id-2 div.sk-label:hover label.sk-toggleable__label {background-color: #d4ebff;}#sk-container-id-2 div.sk-serial::before {content: \"\";position: absolute;border-left: 1px solid gray;box-sizing: border-box;top: 0;bottom: 0;left: 50%;z-index: 0;}#sk-container-id-2 div.sk-serial {display: flex;flex-direction: column;align-items: center;background-color: white;padding-right: 0.2em;padding-left: 0.2em;position: relative;}#sk-container-id-2 div.sk-item {position: relative;z-index: 1;}#sk-container-id-2 div.sk-parallel {display: flex;align-items: stretch;justify-content: center;background-color: white;position: relative;}#sk-container-id-2 div.sk-item::before, #sk-container-id-2 div.sk-parallel-item::before {content: \"\";position: absolute;border-left: 1px solid gray;box-sizing: border-box;top: 0;bottom: 0;left: 50%;z-index: -1;}#sk-container-id-2 div.sk-parallel-item {display: flex;flex-direction: column;z-index: 1;position: relative;background-color: white;}#sk-container-id-2 div.sk-parallel-item:first-child::after {align-self: flex-end;width: 50%;}#sk-container-id-2 div.sk-parallel-item:last-child::after {align-self: flex-start;width: 50%;}#sk-container-id-2 div.sk-parallel-item:only-child::after {width: 0;}#sk-container-id-2 div.sk-dashed-wrapped {border: 1px dashed gray;margin: 0 0.4em 0.5em 0.4em;box-sizing: border-box;padding-bottom: 0.4em;background-color: white;}#sk-container-id-2 div.sk-label label {font-family: monospace;font-weight: bold;display: inline-block;line-height: 1.2em;}#sk-container-id-2 div.sk-label-container {text-align: center;}#sk-container-id-2 div.sk-container {/* jupyter's `normalize.less` sets `[hidden] { display: none; }` but bootstrap.min.css set `[hidden] { display: none !important; }` so we also need the `!important` here to be able to override the default hidden behavior on the sphinx rendered scikit-learn.org. See: https://github.com/scikit-learn/scikit-learn/issues/21755 */display: inline-block !important;position: relative;}#sk-container-id-2 div.sk-text-repr-fallback {display: none;}</style><div id=\"sk-container-id-2\" class=\"sk-top-container\"><div class=\"sk-text-repr-fallback\"><pre>MultinomialNB()</pre><b>In a Jupyter environment, please rerun this cell to show the HTML representation or trust the notebook. <br />On GitHub, the HTML representation is unable to render, please try loading this page with nbviewer.org.</b></div><div class=\"sk-container\" hidden><div class=\"sk-item\"><div class=\"sk-estimator sk-toggleable\"><input class=\"sk-toggleable__control sk-hidden--visually\" id=\"sk-estimator-id-2\" type=\"checkbox\" checked><label for=\"sk-estimator-id-2\" class=\"sk-toggleable__label sk-toggleable__label-arrow\">MultinomialNB</label><div class=\"sk-toggleable__content\"><pre>MultinomialNB()</pre></div></div></div></div></div>"
      ],
      "text/plain": [
       "MultinomialNB()"
      ]
     },
     "execution_count": 84,
     "metadata": {},
     "output_type": "execute_result"
    }
   ],
   "source": [
    "model_mnb = MultinomialNB()\n",
    "model_mnb.fit(x_train,y_train)"
   ]
  },
  {
   "cell_type": "code",
   "execution_count": 85,
   "id": "6a301a31-5a8c-4674-bb1b-55bdc0ed4c22",
   "metadata": {},
   "outputs": [],
   "source": [
    "y_pred = model_mnb.predict(x_test)"
   ]
  },
  {
   "cell_type": "code",
   "execution_count": 86,
   "id": "9f9d2693-df9c-4bd4-bcd0-ba1bd8df63c4",
   "metadata": {},
   "outputs": [
    {
     "data": {
      "text/plain": [
       "0.9928202827013687"
      ]
     },
     "execution_count": 86,
     "metadata": {},
     "output_type": "execute_result"
    }
   ],
   "source": [
    "model_mnb.score(x_train,y_train)"
   ]
  },
  {
   "cell_type": "code",
   "execution_count": 87,
   "id": "0d6aef06-8835-4890-b695-fd2dd5916738",
   "metadata": {},
   "outputs": [
    {
     "data": {
      "text/plain": [
       "0.9748878923766816"
      ]
     },
     "execution_count": 87,
     "metadata": {},
     "output_type": "execute_result"
    }
   ],
   "source": [
    "model_mnb.score(x_test,y_test)"
   ]
  },
  {
   "cell_type": "code",
   "execution_count": 103,
   "id": "49b7f95a-4110-4599-89fd-c04297814174",
   "metadata": {},
   "outputs": [],
   "source": [
    "y_pred = model_mnb.predict(x_test)"
   ]
  },
  {
   "cell_type": "code",
   "execution_count": 112,
   "id": "e54b71c8-341b-45e3-ae73-6d4d7a629a36",
   "metadata": {},
   "outputs": [],
   "source": [
    "y_pred = model_mnb.predict()"
   ]
  },
  {
   "cell_type": "code",
   "execution_count": 114,
   "id": "7c8ee838-cd93-448e-b1a1-9839638f38d1",
   "metadata": {},
   "outputs": [
    {
     "data": {
      "text/plain": [
       "array([[0, 0, 0, ..., 0, 0, 0]], dtype=int64)"
      ]
     },
     "execution_count": 114,
     "metadata": {},
     "output_type": "execute_result"
    }
   ],
   "source": [
    "x[1:2]"
   ]
  },
  {
   "cell_type": "code",
   "execution_count": 113,
   "id": "331e40d6-c252-466b-8f8e-f0195db02f45",
   "metadata": {},
   "outputs": [
    {
     "data": {
      "text/plain": [
       "array(['ham'], dtype='<U4')"
      ]
     },
     "execution_count": 113,
     "metadata": {},
     "output_type": "execute_result"
    }
   ],
   "source": [
    "y_pred"
   ]
  },
  {
   "cell_type": "code",
   "execution_count": 93,
   "id": "bfd2a74f-b53b-43b0-9754-3e49490e316a",
   "metadata": {},
   "outputs": [],
   "source": [
    "cr = classification_report(y_test,y_pred)"
   ]
  },
  {
   "cell_type": "code",
   "execution_count": 95,
   "id": "4c6ec21b-1a4b-46d7-97df-d77d909e5316",
   "metadata": {},
   "outputs": [
    {
     "name": "stdout",
     "output_type": "stream",
     "text": [
      "              precision    recall  f1-score   support\n",
      "\n",
      "         ham       0.99      0.98      0.99       970\n",
      "        spam       0.88      0.94      0.91       145\n",
      "\n",
      "    accuracy                           0.97      1115\n",
      "   macro avg       0.93      0.96      0.95      1115\n",
      "weighted avg       0.98      0.97      0.98      1115\n",
      "\n"
     ]
    }
   ],
   "source": [
    "print(cr)"
   ]
  },
  {
   "cell_type": "code",
   "execution_count": 96,
   "id": "7a982575-e15b-41d6-905e-2e8312a3512d",
   "metadata": {},
   "outputs": [
    {
     "data": {
      "text/plain": [
       "array([[951,  19],\n",
       "       [  9, 136]], dtype=int64)"
      ]
     },
     "execution_count": 96,
     "metadata": {},
     "output_type": "execute_result"
    }
   ],
   "source": [
    "cm = confusion_matrix(y_test,y_pred)\n",
    "cm"
   ]
  }
 ],
 "metadata": {
  "kernelspec": {
   "display_name": "Python 3 (ipykernel)",
   "language": "python",
   "name": "python3"
  },
  "language_info": {
   "codemirror_mode": {
    "name": "ipython",
    "version": 3
   },
   "file_extension": ".py",
   "mimetype": "text/x-python",
   "name": "python",
   "nbconvert_exporter": "python",
   "pygments_lexer": "ipython3",
   "version": "3.9.12"
  }
 },
 "nbformat": 4,
 "nbformat_minor": 5
}
